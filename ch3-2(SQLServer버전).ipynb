{
 "cells": [
  {
   "cell_type": "markdown",
   "metadata": {},
   "source": [
    "# 실무예제 3-2"
   ]
  },
  {
   "cell_type": "markdown",
   "metadata": {},
   "source": [
    "## 다음은 2013년 전라남도 유망중소기업 지정업체 명단의 일부이다. 시군 속성과 지정구분 속성 간의 연관성 여부를 카이제곱 검정 방법에 의해 판단해 보시오. (단, 유의 수준은 0.05이다)"
   ]
  },
  {
   "cell_type": "markdown",
   "metadata": {},
   "source": [
    "### 데이터 파일 : ch3-2(유망중소기업현황).csv"
   ]
  },
  {
   "cell_type": "markdown",
   "metadata": {},
   "source": [
    "### 원본 투플수 : 386개"
   ]
  },
  {
   "cell_type": "code",
   "execution_count": 7,
   "metadata": {},
   "outputs": [],
   "source": [
    "# ch3-2.py\n",
    "import pandas as pd\n",
    "import numpy as np\n",
    "import pymssql      # SQLServer DB 연동을 위한 pymssql 패키지 임포트\n",
    "\n",
    "# 데이터로드 (ch2-2.csv : 데이터 원본 파일)\n",
    "# encoding : 윈도우즈 환경에서의 한글 처리\n",
    "# engine : python 3.6에서 한글이 포함된 파일이름 사용\n",
    "rawData_org = pd.read_csv('.jupyter/ch3-2(유망중소기업현황).csv', encoding='CP949', engine='python')"
   ]
  },
  {
   "cell_type": "code",
   "execution_count": 8,
   "metadata": {},
   "outputs": [
    {
     "data": {
      "text/html": [
       "<div>\n",
       "<style scoped>\n",
       "    .dataframe tbody tr th:only-of-type {\n",
       "        vertical-align: middle;\n",
       "    }\n",
       "\n",
       "    .dataframe tbody tr th {\n",
       "        vertical-align: top;\n",
       "    }\n",
       "\n",
       "    .dataframe thead th {\n",
       "        text-align: right;\n",
       "    }\n",
       "</style>\n",
       "<table border=\"1\" class=\"dataframe\">\n",
       "  <thead>\n",
       "    <tr style=\"text-align: right;\">\n",
       "      <th></th>\n",
       "      <th>연번</th>\n",
       "      <th>시군</th>\n",
       "      <th>지정구분</th>\n",
       "      <th>기업명</th>\n",
       "      <th>대표자</th>\n",
       "      <th>소  재  지</th>\n",
       "      <th>주생산품</th>\n",
       "      <th>전화번호(061)</th>\n",
       "      <th>비고\\n(지정번호)</th>\n",
       "    </tr>\n",
       "  </thead>\n",
       "  <tbody>\n",
       "    <tr>\n",
       "      <th>0</th>\n",
       "      <td>1</td>\n",
       "      <td>목포시</td>\n",
       "      <td>기술유망</td>\n",
       "      <td>브로드컴㈜</td>\n",
       "      <td>이봉헌</td>\n",
       "      <td>목포시 석현동 1175(벤처지원 202)</td>\n",
       "      <td>정보통신</td>\n",
       "      <td>284-0017</td>\n",
       "      <td>11-1</td>\n",
       "    </tr>\n",
       "    <tr>\n",
       "      <th>1</th>\n",
       "      <td>2</td>\n",
       "      <td>목포시</td>\n",
       "      <td>기술유망</td>\n",
       "      <td>㈜케이에스</td>\n",
       "      <td>김시오</td>\n",
       "      <td>목포시 연산동1236-3</td>\n",
       "      <td>용접철망외</td>\n",
       "      <td>1588-4118</td>\n",
       "      <td>11-2</td>\n",
       "    </tr>\n",
       "    <tr>\n",
       "      <th>2</th>\n",
       "      <td>3</td>\n",
       "      <td>목포시</td>\n",
       "      <td>기술유망</td>\n",
       "      <td>삼진물산(주)</td>\n",
       "      <td>김관석</td>\n",
       "      <td>목포시 연산동 1239-1</td>\n",
       "      <td>참치통조림</td>\n",
       "      <td>270-6113</td>\n",
       "      <td>11-3</td>\n",
       "    </tr>\n",
       "    <tr>\n",
       "      <th>3</th>\n",
       "      <td>4</td>\n",
       "      <td>목포시</td>\n",
       "      <td>기술유망</td>\n",
       "      <td>㈜혜성</td>\n",
       "      <td>전재두</td>\n",
       "      <td>목포시 연산동1237-3</td>\n",
       "      <td>가드레일외</td>\n",
       "      <td>1588-2811</td>\n",
       "      <td>11-4</td>\n",
       "    </tr>\n",
       "    <tr>\n",
       "      <th>4</th>\n",
       "      <td>5</td>\n",
       "      <td>목포시</td>\n",
       "      <td>기술유망</td>\n",
       "      <td>(유)한국메이드</td>\n",
       "      <td>이승룡</td>\n",
       "      <td>목포시 연산동 1238-4</td>\n",
       "      <td>선박블록</td>\n",
       "      <td>278-4411</td>\n",
       "      <td>11-5</td>\n",
       "    </tr>\n",
       "    <tr>\n",
       "      <th>...</th>\n",
       "      <td>...</td>\n",
       "      <td>...</td>\n",
       "      <td>...</td>\n",
       "      <td>...</td>\n",
       "      <td>...</td>\n",
       "      <td>...</td>\n",
       "      <td>...</td>\n",
       "      <td>...</td>\n",
       "      <td>...</td>\n",
       "    </tr>\n",
       "    <tr>\n",
       "      <th>381</th>\n",
       "      <td>382</td>\n",
       "      <td>완도군</td>\n",
       "      <td>지역특화</td>\n",
       "      <td>㈜세영산업</td>\n",
       "      <td>김주효</td>\n",
       "      <td>완도군 완도읍가용리</td>\n",
       "      <td>찐톳.건미역</td>\n",
       "      <td>555-0294</td>\n",
       "      <td>11-276</td>\n",
       "    </tr>\n",
       "    <tr>\n",
       "      <th>382</th>\n",
       "      <td>383</td>\n",
       "      <td>완도군</td>\n",
       "      <td>기술유망</td>\n",
       "      <td>동주씨테크㈜</td>\n",
       "      <td>이용철</td>\n",
       "      <td>완도군 완도읍 가용리 1086-6</td>\n",
       "      <td>개량부자 전복양식자재</td>\n",
       "      <td>554-6690</td>\n",
       "      <td>12-63</td>\n",
       "    </tr>\n",
       "    <tr>\n",
       "      <th>383</th>\n",
       "      <td>384</td>\n",
       "      <td>진도군</td>\n",
       "      <td>수출유망</td>\n",
       "      <td>대대로영농조합법인</td>\n",
       "      <td>김애란</td>\n",
       "      <td>진도군 군내면 명량대첩로 288-23</td>\n",
       "      <td>홍주</td>\n",
       "      <td>542-3399</td>\n",
       "      <td>11-290</td>\n",
       "    </tr>\n",
       "    <tr>\n",
       "      <th>384</th>\n",
       "      <td>385</td>\n",
       "      <td>진도군</td>\n",
       "      <td>지역특화</td>\n",
       "      <td>진도정미소영농조합법인</td>\n",
       "      <td>이운갑</td>\n",
       "      <td>진도군 의신면 돈지리 144</td>\n",
       "      <td>흑미, 기타유색미</td>\n",
       "      <td>544-3459</td>\n",
       "      <td>12-64</td>\n",
       "    </tr>\n",
       "    <tr>\n",
       "      <th>385</th>\n",
       "      <td>386</td>\n",
       "      <td>신안군</td>\n",
       "      <td>기술유망</td>\n",
       "      <td>㈜영진그린식품</td>\n",
       "      <td>호병용</td>\n",
       "      <td>신안군 지도읍 두류산길 91-41</td>\n",
       "      <td>천일염\\n기타 가공염</td>\n",
       "      <td>275-2330</td>\n",
       "      <td>11-291</td>\n",
       "    </tr>\n",
       "  </tbody>\n",
       "</table>\n",
       "<p>386 rows × 9 columns</p>\n",
       "</div>"
      ],
      "text/plain": [
       "      연번   시군  지정구분          기업명  대표자                 소  재  지         주생산품  \\\n",
       "0      1  목포시  기술유망        브로드컴㈜  이봉헌  목포시 석현동 1175(벤처지원 202)         정보통신   \n",
       "1      2  목포시  기술유망        ㈜케이에스  김시오           목포시 연산동1236-3        용접철망외   \n",
       "2      3  목포시  기술유망      삼진물산(주)  김관석          목포시 연산동 1239-1        참치통조림   \n",
       "3      4  목포시  기술유망          ㈜혜성  전재두           목포시 연산동1237-3        가드레일외   \n",
       "4      5  목포시  기술유망     (유)한국메이드  이승룡          목포시 연산동 1238-4         선박블록   \n",
       "..   ...  ...   ...          ...  ...                     ...          ...   \n",
       "381  382  완도군  지역특화        ㈜세영산업  김주효              완도군 완도읍가용리       찐톳.건미역   \n",
       "382  383  완도군  기술유망       동주씨테크㈜  이용철      완도군 완도읍 가용리 1086-6  개량부자 전복양식자재   \n",
       "383  384  진도군  수출유망    대대로영농조합법인  김애란    진도군 군내면 명량대첩로 288-23           홍주   \n",
       "384  385  진도군  지역특화  진도정미소영농조합법인  이운갑         진도군 의신면 돈지리 144    흑미, 기타유색미   \n",
       "385  386  신안군  기술유망      ㈜영진그린식품  호병용      신안군 지도읍 두류산길 91-41  천일염\\n기타 가공염   \n",
       "\n",
       "     전화번호(061) 비고\\n(지정번호)  \n",
       "0     284-0017       11-1  \n",
       "1    1588-4118       11-2  \n",
       "2     270-6113       11-3  \n",
       "3    1588-2811       11-4  \n",
       "4     278-4411       11-5  \n",
       "..         ...        ...  \n",
       "381   555-0294     11-276  \n",
       "382   554-6690      12-63  \n",
       "383   542-3399     11-290  \n",
       "384   544-3459      12-64  \n",
       "385   275-2330     11-291  \n",
       "\n",
       "[386 rows x 9 columns]"
      ]
     },
     "execution_count": 8,
     "metadata": {},
     "output_type": "execute_result"
    }
   ],
   "source": [
    "rawData_org"
   ]
  },
  {
   "cell_type": "code",
   "execution_count": 9,
   "metadata": {},
   "outputs": [],
   "source": [
    "# 원본 데이터파일에서 '시군'과 '지정구분' 속성만 추출\n",
    "rawData = rawData_org.loc[:,'시군':'지정구분']"
   ]
  },
  {
   "cell_type": "code",
   "execution_count": 10,
   "metadata": {},
   "outputs": [
    {
     "data": {
      "text/html": [
       "<div>\n",
       "<style scoped>\n",
       "    .dataframe tbody tr th:only-of-type {\n",
       "        vertical-align: middle;\n",
       "    }\n",
       "\n",
       "    .dataframe tbody tr th {\n",
       "        vertical-align: top;\n",
       "    }\n",
       "\n",
       "    .dataframe thead th {\n",
       "        text-align: right;\n",
       "    }\n",
       "</style>\n",
       "<table border=\"1\" class=\"dataframe\">\n",
       "  <thead>\n",
       "    <tr style=\"text-align: right;\">\n",
       "      <th></th>\n",
       "      <th>시군</th>\n",
       "      <th>지정구분</th>\n",
       "    </tr>\n",
       "  </thead>\n",
       "  <tbody>\n",
       "    <tr>\n",
       "      <th>0</th>\n",
       "      <td>목포시</td>\n",
       "      <td>기술유망</td>\n",
       "    </tr>\n",
       "    <tr>\n",
       "      <th>1</th>\n",
       "      <td>목포시</td>\n",
       "      <td>기술유망</td>\n",
       "    </tr>\n",
       "    <tr>\n",
       "      <th>2</th>\n",
       "      <td>목포시</td>\n",
       "      <td>기술유망</td>\n",
       "    </tr>\n",
       "    <tr>\n",
       "      <th>3</th>\n",
       "      <td>목포시</td>\n",
       "      <td>기술유망</td>\n",
       "    </tr>\n",
       "    <tr>\n",
       "      <th>4</th>\n",
       "      <td>목포시</td>\n",
       "      <td>기술유망</td>\n",
       "    </tr>\n",
       "    <tr>\n",
       "      <th>...</th>\n",
       "      <td>...</td>\n",
       "      <td>...</td>\n",
       "    </tr>\n",
       "    <tr>\n",
       "      <th>381</th>\n",
       "      <td>완도군</td>\n",
       "      <td>지역특화</td>\n",
       "    </tr>\n",
       "    <tr>\n",
       "      <th>382</th>\n",
       "      <td>완도군</td>\n",
       "      <td>기술유망</td>\n",
       "    </tr>\n",
       "    <tr>\n",
       "      <th>383</th>\n",
       "      <td>진도군</td>\n",
       "      <td>수출유망</td>\n",
       "    </tr>\n",
       "    <tr>\n",
       "      <th>384</th>\n",
       "      <td>진도군</td>\n",
       "      <td>지역특화</td>\n",
       "    </tr>\n",
       "    <tr>\n",
       "      <th>385</th>\n",
       "      <td>신안군</td>\n",
       "      <td>기술유망</td>\n",
       "    </tr>\n",
       "  </tbody>\n",
       "</table>\n",
       "<p>386 rows × 2 columns</p>\n",
       "</div>"
      ],
      "text/plain": [
       "      시군  지정구분\n",
       "0    목포시  기술유망\n",
       "1    목포시  기술유망\n",
       "2    목포시  기술유망\n",
       "3    목포시  기술유망\n",
       "4    목포시  기술유망\n",
       "..   ...   ...\n",
       "381  완도군  지역특화\n",
       "382  완도군  기술유망\n",
       "383  진도군  수출유망\n",
       "384  진도군  지역특화\n",
       "385  신안군  기술유망\n",
       "\n",
       "[386 rows x 2 columns]"
      ]
     },
     "execution_count": 10,
     "metadata": {},
     "output_type": "execute_result"
    }
   ],
   "source": [
    "rawData"
   ]
  },
  {
   "cell_type": "code",
   "execution_count": null,
   "metadata": {},
   "outputs": [],
   "source": [
    "# MSSQL DB 연결\n",
    "# 접속정보(connection string) : ID/PASS@CONNECTION_ALIAS\n",
    "# CONNECTION_ALIAS : Oracle TNSNAMES.ORA 파일에 있는 접속정보 별칭(ALIAS)\n",
    "conn_mssql = pymssql.connect(server=\"localhost\", database=\"prep1\")\n",
    "\n",
    "# DB 커서(Cursor) 선언\n",
    "cur = conn_mssql.cursor()\n",
    "\n",
    "# 사용할 Oracle 소스 테이블명 지정\n",
    "src_table = \"d_base3_2\"\n",
    "\n",
    "# 데이터프레임(rawData)에 저장된 데이터를 MSSQL 테이블(d_base2_2)에 입력하기 위한 로직\n",
    "# d_base4_1 테이블 존재하는지 체크하는 함수\n",
    "def table_exists(name=None, con=None):\n",
    "    sql = \"select * from information_schema.tables where table_name='MYTABLE'\".replace('MYTABLE', name.upper())\n",
    "    df = pd.read_sql(sql, con)\n",
    "\n",
    "    # 테이블이 존재하면 True, 그렇지 않으면 False 반환\n",
    "    exists = True if len(df) > 0 else False\n",
    "    return exists\n",
    "\n",
    "# 테이블(d_base3_2) 생성 (테이블이 이미 존재한다면 TRUNCATE TABLE)\n",
    "if table_exists(src_table, conn_mssql):\n",
    "    cur.execute(\"TRUNCATE TABLE \" + src_table)\n",
    "else:\n",
    "    cur.execute(\"create table \" + src_table + \" ( \\\n",
    "               시군 varchar(10), \\\n",
    "               지정구분 varchar(20))\")\n",
    "\n",
    "# INSERT INTO ... VALUES (%s, %s, ...) 에서 바인드 변수값을 주기위해 tuple 구조 사용\n",
    "def convertSequenceToTuple(list):\n",
    "    dict = []\n",
    "    for v in list :\n",
    "        dict.append(v)\n",
    "    return tuple(dict)\n",
    "\n",
    "# 데이터프레임에 저장된 데이터를 MSSQL 테이블로 입력(insert)\n",
    "cols = [k for k in rawData.dtypes.index]\n",
    "colnames = ','.join(cols)\n",
    "colpos = ', '.join(['%s' for f in enumerate(cols)])\n",
    "insert_sql = 'INSERT INTO %s (%s) VALUES (%s)' % (src_table, colnames, colpos)\n",
    "\n",
    "# INSERT INTO ... VALUES (%s, %s, ...)의 바인드 변수 값을 저장하는 tuple 구조 생성\n",
    "data = [convertSequenceToTuple(rec) for rec in rawData.values]\n",
    "\n",
    "# 바인드 변수와 tuple 데이터구조를 활용하여 Bulk Insertion 구현\n",
    "cur.executemany(insert_sql, data)\n",
    "\n",
    "# csv 파일 데이터의 MSSQL 테이블 입력 완료 \n",
    "conn_mssql.commit()"
   ]
  },
  {
   "cell_type": "markdown",
   "metadata": {},
   "source": [
    "### 실무예제 2-2의 MSSQL 연동 설명 참조\n",
    "### MSSQL Studio를 통해서 d_base3_2 테이블 생성 확인"
   ]
  },
  {
   "cell_type": "code",
   "execution_count": null,
   "metadata": {},
   "outputs": [],
   "source": [
    "# 관측도수/기대도수 분할표 생성 (1차원 배열 형식)\n",
    "count_df = pd.read_sql(\"\"\"\n",
    "select a.시군\n",
    "     , a.지정구분\n",
    "     , isnull(b.관측도수,0) 관측도수 /*관측되지않은 (시군+지정구분)은 0으로 처리*/\n",
    "     , a.기대도수     \n",
    "from\n",
    "    (select x.시군\n",
    "          , y.지정구분\n",
    "          , x.기대도수_시군 * y.기대도수_지정구분 / z.기대도수_전체 기대도수\n",
    "     from \n",
    "         (select 시군\n",
    "                , count(*) 기대도수_시군\n",
    "          from \"\"\" + src_table + \"\"\"\n",
    "          group by 시군) x,\n",
    "         (select 지정구분\n",
    "               , count(*) 기대도수_지정구분\n",
    "          from \"\"\" + src_table + \"\"\"\n",
    "          group by 지정구분) y,\n",
    "         (select count(*) 기대도수_전체\n",
    "         from \"\"\" + src_table + \"\"\") z) a left outer join\n",
    "    (select 시군\n",
    "          , 지정구분\n",
    "          , count(*) 관측도수\n",
    "     from \"\"\" + src_table + \"\"\"\n",
    "     group by 시군, 지정구분) b \n",
    "on a.시군 = b.시군 /* 특정 (시군+지정구분) 값은 존재하지 않을 수 있어서 외부조인으로 처리 */\n",
    "  and a.지정구분 = b.지정구분\"\"\", con=conn_mssql)"
   ]
  },
  {
   "cell_type": "markdown",
   "metadata": {},
   "source": [
    "### pandas 데이터프레임에 카이제곱 검정을 위한 관측도수/기대도수 분할표 저장\n",
    "### ‘시군’ 속성 ‘지정구분’ 속성에 대한 관측도수와 기대도수를 구하기 위해서 Oracle SQL을 활용\n",
    "#### 관측도수 :  ‘시군’과 ‘지정구분’ 속성값의 조합에 대한 실제 출현횟수\n",
    "#### 기대도수 : 전체 행의 개수와 각 속성의 카디널러티(cardinality, 서로 다른 속성값의 개수)를 구하여 산출\n",
    "#### 실제 출현하지 않은 (시군+지정구분) 속성값도 포함시키기 위해서 외부조인(outer join)을 수행"
   ]
  },
  {
   "cell_type": "code",
   "execution_count": null,
   "metadata": {},
   "outputs": [],
   "source": [
    "# 관측도수/기대도수 분할표 출력\n",
    "count_df"
   ]
  },
  {
   "cell_type": "code",
   "execution_count": 57,
   "metadata": {},
   "outputs": [],
   "source": [
    "# 2개 속성에 대한 자유도(degree of freedom) 갭 구하기\n",
    "# A 속성에 대한 cardinality = a, B 속성에 대한 cardinality = b라 가정\n",
    "# cardinality : 서로 다른 속성값의 개수\n",
    "# 분할표 전체 행 갯수(a*b) 구하기\n",
    "tot_rows = count_df.shape[0]"
   ]
  },
  {
   "cell_type": "markdown",
   "metadata": {},
   "source": [
    "### ‘시군’ 속성의 카디널러티(a) = 22\n",
    "### ‘지정구분’ 속성의 카디널러티(b) = 3\n",
    "### 그래서, (시군+지정구분) 속성조합의 카디널러티(a\\*b) = 22 * 3 = 66"
   ]
  },
  {
   "cell_type": "code",
   "execution_count": 58,
   "metadata": {},
   "outputs": [
    {
     "data": {
      "text/plain": [
       "66"
      ]
     },
     "execution_count": 58,
     "metadata": {},
     "output_type": "execute_result"
    }
   ],
   "source": [
    "tot_rows  # 변수확인"
   ]
  },
  {
   "cell_type": "code",
   "execution_count": 59,
   "metadata": {},
   "outputs": [],
   "source": [
    "# '시군' 속성의 cardinality 구하기\n",
    "cardi_sigun = len(count_df['시군'].unique())\n",
    "\n",
    "# '지정구분' 속성의 cardinality 구하기\n",
    "cardi_gubun = len(count_df['지정구분'].unique())"
   ]
  },
  {
   "cell_type": "code",
   "execution_count": 61,
   "metadata": {},
   "outputs": [],
   "source": [
    "# cardinality 갭 [(a*b-1) - (a-1)*(b-1)] 구하기\n",
    "v_ddof = (tot_rows - 1) - (cardi_sigun-1)*(cardi_gubun-1)"
   ]
  },
  {
   "cell_type": "markdown",
   "metadata": {},
   "source": [
    "### 속성조합의 자유도(degree of freedom) = (66-1) = 65\n",
    "### 실제 자유도는 (22-1) * (3-1) = 42\n",
    "### 위 두 값의 차이 : 23 -> chisquare() 함수의 세번째 패러미터로 사용"
   ]
  },
  {
   "cell_type": "code",
   "execution_count": 62,
   "metadata": {},
   "outputs": [
    {
     "data": {
      "text/plain": [
       "0    23\n",
       "dtype: int64"
      ]
     },
     "execution_count": 62,
     "metadata": {},
     "output_type": "execute_result"
    }
   ],
   "source": [
    "v_ddof  # 변수확인"
   ]
  },
  {
   "cell_type": "code",
   "execution_count": 63,
   "metadata": {},
   "outputs": [],
   "source": [
    "obs_array = count_df['관측도수'] # obs_array : 관측도수를 저장하는 1차원 배열"
   ]
  },
  {
   "cell_type": "markdown",
   "metadata": {},
   "source": [
    "### obs_array : chisquare() 함수의 첫번째 패러미터로 사용"
   ]
  },
  {
   "cell_type": "code",
   "execution_count": 64,
   "metadata": {},
   "outputs": [
    {
     "data": {
      "text/plain": [
       "0      2\n",
       "1      5\n",
       "2      5\n",
       "3     37\n",
       "4      6\n",
       "      ..\n",
       "61     3\n",
       "62     1\n",
       "63     0\n",
       "64     2\n",
       "65     5\n",
       "Name: 관측도수, Length: 66, dtype: int64"
      ]
     },
     "execution_count": 64,
     "metadata": {},
     "output_type": "execute_result"
    }
   ],
   "source": [
    "obs_array  # 변수확인"
   ]
  },
  {
   "cell_type": "code",
   "execution_count": 65,
   "metadata": {},
   "outputs": [],
   "source": [
    "exp_array = count_df['기대도수'] # exp_array : 기대도수를 저장하는 1차원 배열"
   ]
  },
  {
   "cell_type": "markdown",
   "metadata": {},
   "source": [
    "### exp_array : chisquare() 함수의 두번째 패러미터로 사용"
   ]
  },
  {
   "cell_type": "code",
   "execution_count": 66,
   "metadata": {},
   "outputs": [
    {
     "data": {
      "text/plain": [
       "0      4.569948\n",
       "1      3.917098\n",
       "2      3.917098\n",
       "3     32.642487\n",
       "4      5.222798\n",
       "        ...    \n",
       "61     1.134715\n",
       "62     0.378238\n",
       "63     1.702073\n",
       "64     1.323834\n",
       "65     5.862694\n",
       "Name: 기대도수, Length: 66, dtype: float64"
      ]
     },
     "execution_count": 66,
     "metadata": {},
     "output_type": "execute_result"
    }
   ],
   "source": [
    "exp_array  # 변수확인"
   ]
  },
  {
   "cell_type": "code",
   "execution_count": 67,
   "metadata": {},
   "outputs": [],
   "source": [
    "# 카이제곱검정을 위한 scipy 패키지 중 stats 모듈 임포트\n",
    "from scipy import stats"
   ]
  },
  {
   "cell_type": "code",
   "execution_count": 68,
   "metadata": {},
   "outputs": [],
   "source": [
    "# stats.chisquare() : 카이제곱검정 함수\n",
    "chis = stats.chisquare(obs_array, exp_array, ddof=v_ddof)"
   ]
  },
  {
   "cell_type": "markdown",
   "metadata": {},
   "source": [
    "### chisquare() 함수 : 카이제곱(χ2) 통계량을 산출하는 함수\n",
    "#### 첫번째 패러미터 : 1차원 배열 형태의 관측도수 리스트\n",
    "#### 두번째 패러미터 : 1차원 배열 형태의 기대도수 리스트\n",
    "#### 세번째 패러미터 : 자유도 차이 [(a\\*b-1) - (a-1)\\*(b-1)]"
   ]
  },
  {
   "cell_type": "code",
   "execution_count": 69,
   "metadata": {},
   "outputs": [
    {
     "name": "stdout",
     "output_type": "stream",
     "text": [
      "statistic = 54.544, p-value = 0.09287\n"
     ]
    }
   ],
   "source": [
    "# stats.chisquare() 수행 후의 카이제곱 통계량과 p-value\n",
    "print(\"statistic = %.3f, p-value = %.5f\" % (chis))"
   ]
  },
  {
   "cell_type": "markdown",
   "metadata": {},
   "source": [
    "### 카이제곱 통계량(statistic) : 54.544\n",
    "### 유의확률(p-value) : 0.09287\n",
    "### 유의확률이 유의수준 0.05로 설정한다면 귀무가설(두 속성은 연관성이 없다)이 채택됨. 결론적으로, 시군과 지정구분 사이에는 큰 연관성은 없는 것으로 판단할 수 있음."
   ]
  }
 ],
 "metadata": {
  "kernelspec": {
   "display_name": "Python 3",
   "language": "python",
   "name": "python3"
  },
  "language_info": {
   "codemirror_mode": {
    "name": "ipython",
    "version": 3
   },
   "file_extension": ".py",
   "mimetype": "text/x-python",
   "name": "python",
   "nbconvert_exporter": "python",
   "pygments_lexer": "ipython3",
   "version": "3.6.10"
  }
 },
 "nbformat": 4,
 "nbformat_minor": 2
}
