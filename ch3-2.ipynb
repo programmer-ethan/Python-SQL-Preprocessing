{
 "cells": [
  {
   "cell_type": "markdown",
   "metadata": {},
   "source": [
    "# 실무예제 3-2"
   ]
  },
  {
   "cell_type": "markdown",
   "metadata": {},
   "source": [
    "## 다음은 2013년 전라남도 유망중소기업 지정업체 명단의 일부이다. 시군 속성과 지정구분 속성 간의 연관성 여부를 카이제곱 검정 방법에 의해 판단해 보시오. (단, 유의 수준은 0.05이다)"
   ]
  },
  {
   "cell_type": "markdown",
   "metadata": {},
   "source": [
    "### 데이터 파일 : ch3-2(유망중소기업현황).csv"
   ]
  },
  {
   "cell_type": "markdown",
   "metadata": {},
   "source": [
    "### 원본 투플수 : 386개"
   ]
  },
  {
   "cell_type": "code",
   "execution_count": 122,
   "metadata": {},
   "outputs": [],
   "source": [
    "# ch3-2.py\n",
    "import pandas as pd\n",
    "import numpy as np\n",
    "import cx_Oracle      # Oracle DB 연동을 위한 cx_Oracle 패키지 임포트\n",
    "\n",
    "# 데이터로드 (ch2-2.csv : 데이터 원본 파일)\n",
    "# encoding : 윈도우즈 환경에서의 한글 처리\n",
    "# engine : python 3.6에서 한글이 포함된 파일이름 사용\n",
    "rawData_org = pd.read_csv('.jupyter/ch3-2(유망중소기업현황).csv', encoding='CP949', engine='python')"
   ]
  },
  {
   "cell_type": "code",
   "execution_count": 123,
   "metadata": {},
   "outputs": [
    {
     "data": {
      "text/html": [
       "<div>\n",
       "<style scoped>\n",
       "    .dataframe tbody tr th:only-of-type {\n",
       "        vertical-align: middle;\n",
       "    }\n",
       "\n",
       "    .dataframe tbody tr th {\n",
       "        vertical-align: top;\n",
       "    }\n",
       "\n",
       "    .dataframe thead th {\n",
       "        text-align: right;\n",
       "    }\n",
       "</style>\n",
       "<table border=\"1\" class=\"dataframe\">\n",
       "  <thead>\n",
       "    <tr style=\"text-align: right;\">\n",
       "      <th></th>\n",
       "      <th>연번</th>\n",
       "      <th>시군</th>\n",
       "      <th>지정구분</th>\n",
       "      <th>기업명</th>\n",
       "      <th>대표자</th>\n",
       "      <th>소  재  지</th>\n",
       "      <th>주생산품</th>\n",
       "      <th>전화번호(061)</th>\n",
       "      <th>비고\\n(지정번호)</th>\n",
       "    </tr>\n",
       "  </thead>\n",
       "  <tbody>\n",
       "    <tr>\n",
       "      <th>0</th>\n",
       "      <td>1</td>\n",
       "      <td>목포시</td>\n",
       "      <td>기술유망</td>\n",
       "      <td>브로드컴㈜</td>\n",
       "      <td>이봉헌</td>\n",
       "      <td>목포시 석현동 1175(벤처지원 202)</td>\n",
       "      <td>정보통신</td>\n",
       "      <td>284-0017</td>\n",
       "      <td>11-1</td>\n",
       "    </tr>\n",
       "    <tr>\n",
       "      <th>1</th>\n",
       "      <td>2</td>\n",
       "      <td>목포시</td>\n",
       "      <td>기술유망</td>\n",
       "      <td>㈜케이에스</td>\n",
       "      <td>김시오</td>\n",
       "      <td>목포시 연산동1236-3</td>\n",
       "      <td>용접철망외</td>\n",
       "      <td>1588-4118</td>\n",
       "      <td>11-2</td>\n",
       "    </tr>\n",
       "    <tr>\n",
       "      <th>2</th>\n",
       "      <td>3</td>\n",
       "      <td>목포시</td>\n",
       "      <td>기술유망</td>\n",
       "      <td>삼진물산(주)</td>\n",
       "      <td>김관석</td>\n",
       "      <td>목포시 연산동 1239-1</td>\n",
       "      <td>참치통조림</td>\n",
       "      <td>270-6113</td>\n",
       "      <td>11-3</td>\n",
       "    </tr>\n",
       "    <tr>\n",
       "      <th>3</th>\n",
       "      <td>4</td>\n",
       "      <td>목포시</td>\n",
       "      <td>기술유망</td>\n",
       "      <td>㈜혜성</td>\n",
       "      <td>전재두</td>\n",
       "      <td>목포시 연산동1237-3</td>\n",
       "      <td>가드레일외</td>\n",
       "      <td>1588-2811</td>\n",
       "      <td>11-4</td>\n",
       "    </tr>\n",
       "    <tr>\n",
       "      <th>4</th>\n",
       "      <td>5</td>\n",
       "      <td>목포시</td>\n",
       "      <td>기술유망</td>\n",
       "      <td>(유)한국메이드</td>\n",
       "      <td>이승룡</td>\n",
       "      <td>목포시 연산동 1238-4</td>\n",
       "      <td>선박블록</td>\n",
       "      <td>278-4411</td>\n",
       "      <td>11-5</td>\n",
       "    </tr>\n",
       "    <tr>\n",
       "      <th>...</th>\n",
       "      <td>...</td>\n",
       "      <td>...</td>\n",
       "      <td>...</td>\n",
       "      <td>...</td>\n",
       "      <td>...</td>\n",
       "      <td>...</td>\n",
       "      <td>...</td>\n",
       "      <td>...</td>\n",
       "      <td>...</td>\n",
       "    </tr>\n",
       "    <tr>\n",
       "      <th>381</th>\n",
       "      <td>382</td>\n",
       "      <td>완도군</td>\n",
       "      <td>지역특화</td>\n",
       "      <td>㈜세영산업</td>\n",
       "      <td>김주효</td>\n",
       "      <td>완도군 완도읍가용리</td>\n",
       "      <td>찐톳.건미역</td>\n",
       "      <td>555-0294</td>\n",
       "      <td>11-276</td>\n",
       "    </tr>\n",
       "    <tr>\n",
       "      <th>382</th>\n",
       "      <td>383</td>\n",
       "      <td>완도군</td>\n",
       "      <td>기술유망</td>\n",
       "      <td>동주씨테크㈜</td>\n",
       "      <td>이용철</td>\n",
       "      <td>완도군 완도읍 가용리 1086-6</td>\n",
       "      <td>개량부자 전복양식자재</td>\n",
       "      <td>554-6690</td>\n",
       "      <td>12-63</td>\n",
       "    </tr>\n",
       "    <tr>\n",
       "      <th>383</th>\n",
       "      <td>384</td>\n",
       "      <td>진도군</td>\n",
       "      <td>수출유망</td>\n",
       "      <td>대대로영농조합법인</td>\n",
       "      <td>김애란</td>\n",
       "      <td>진도군 군내면 명량대첩로 288-23</td>\n",
       "      <td>홍주</td>\n",
       "      <td>542-3399</td>\n",
       "      <td>11-290</td>\n",
       "    </tr>\n",
       "    <tr>\n",
       "      <th>384</th>\n",
       "      <td>385</td>\n",
       "      <td>진도군</td>\n",
       "      <td>지역특화</td>\n",
       "      <td>진도정미소영농조합법인</td>\n",
       "      <td>이운갑</td>\n",
       "      <td>진도군 의신면 돈지리 144</td>\n",
       "      <td>흑미, 기타유색미</td>\n",
       "      <td>544-3459</td>\n",
       "      <td>12-64</td>\n",
       "    </tr>\n",
       "    <tr>\n",
       "      <th>385</th>\n",
       "      <td>386</td>\n",
       "      <td>신안군</td>\n",
       "      <td>기술유망</td>\n",
       "      <td>㈜영진그린식품</td>\n",
       "      <td>호병용</td>\n",
       "      <td>신안군 지도읍 두류산길 91-41</td>\n",
       "      <td>천일염\\n기타 가공염</td>\n",
       "      <td>275-2330</td>\n",
       "      <td>11-291</td>\n",
       "    </tr>\n",
       "  </tbody>\n",
       "</table>\n",
       "<p>386 rows × 9 columns</p>\n",
       "</div>"
      ],
      "text/plain": [
       "      연번   시군  지정구분          기업명  대표자                 소  재  지         주생산품  \\\n",
       "0      1  목포시  기술유망        브로드컴㈜  이봉헌  목포시 석현동 1175(벤처지원 202)         정보통신   \n",
       "1      2  목포시  기술유망        ㈜케이에스  김시오           목포시 연산동1236-3        용접철망외   \n",
       "2      3  목포시  기술유망      삼진물산(주)  김관석          목포시 연산동 1239-1        참치통조림   \n",
       "3      4  목포시  기술유망          ㈜혜성  전재두           목포시 연산동1237-3        가드레일외   \n",
       "4      5  목포시  기술유망     (유)한국메이드  이승룡          목포시 연산동 1238-4         선박블록   \n",
       "..   ...  ...   ...          ...  ...                     ...          ...   \n",
       "381  382  완도군  지역특화        ㈜세영산업  김주효              완도군 완도읍가용리       찐톳.건미역   \n",
       "382  383  완도군  기술유망       동주씨테크㈜  이용철      완도군 완도읍 가용리 1086-6  개량부자 전복양식자재   \n",
       "383  384  진도군  수출유망    대대로영농조합법인  김애란    진도군 군내면 명량대첩로 288-23           홍주   \n",
       "384  385  진도군  지역특화  진도정미소영농조합법인  이운갑         진도군 의신면 돈지리 144    흑미, 기타유색미   \n",
       "385  386  신안군  기술유망      ㈜영진그린식품  호병용      신안군 지도읍 두류산길 91-41  천일염\\n기타 가공염   \n",
       "\n",
       "     전화번호(061) 비고\\n(지정번호)  \n",
       "0     284-0017       11-1  \n",
       "1    1588-4118       11-2  \n",
       "2     270-6113       11-3  \n",
       "3    1588-2811       11-4  \n",
       "4     278-4411       11-5  \n",
       "..         ...        ...  \n",
       "381   555-0294     11-276  \n",
       "382   554-6690      12-63  \n",
       "383   542-3399     11-290  \n",
       "384   544-3459      12-64  \n",
       "385   275-2330     11-291  \n",
       "\n",
       "[386 rows x 9 columns]"
      ]
     },
     "execution_count": 123,
     "metadata": {},
     "output_type": "execute_result"
    }
   ],
   "source": [
    "rawData_org"
   ]
  },
  {
   "cell_type": "code",
   "execution_count": 124,
   "metadata": {},
   "outputs": [],
   "source": [
    "# 원본 데이터파일에서 '시군'과 '지정구분' 속성만 추출\n",
    "rawData = rawData_org.loc[:,'시군':'지정구분']"
   ]
  },
  {
   "cell_type": "code",
   "execution_count": 125,
   "metadata": {},
   "outputs": [
    {
     "data": {
      "text/html": [
       "<div>\n",
       "<style scoped>\n",
       "    .dataframe tbody tr th:only-of-type {\n",
       "        vertical-align: middle;\n",
       "    }\n",
       "\n",
       "    .dataframe tbody tr th {\n",
       "        vertical-align: top;\n",
       "    }\n",
       "\n",
       "    .dataframe thead th {\n",
       "        text-align: right;\n",
       "    }\n",
       "</style>\n",
       "<table border=\"1\" class=\"dataframe\">\n",
       "  <thead>\n",
       "    <tr style=\"text-align: right;\">\n",
       "      <th></th>\n",
       "      <th>시군</th>\n",
       "      <th>지정구분</th>\n",
       "    </tr>\n",
       "  </thead>\n",
       "  <tbody>\n",
       "    <tr>\n",
       "      <th>0</th>\n",
       "      <td>목포시</td>\n",
       "      <td>기술유망</td>\n",
       "    </tr>\n",
       "    <tr>\n",
       "      <th>1</th>\n",
       "      <td>목포시</td>\n",
       "      <td>기술유망</td>\n",
       "    </tr>\n",
       "    <tr>\n",
       "      <th>2</th>\n",
       "      <td>목포시</td>\n",
       "      <td>기술유망</td>\n",
       "    </tr>\n",
       "    <tr>\n",
       "      <th>3</th>\n",
       "      <td>목포시</td>\n",
       "      <td>기술유망</td>\n",
       "    </tr>\n",
       "    <tr>\n",
       "      <th>4</th>\n",
       "      <td>목포시</td>\n",
       "      <td>기술유망</td>\n",
       "    </tr>\n",
       "    <tr>\n",
       "      <th>...</th>\n",
       "      <td>...</td>\n",
       "      <td>...</td>\n",
       "    </tr>\n",
       "    <tr>\n",
       "      <th>381</th>\n",
       "      <td>완도군</td>\n",
       "      <td>지역특화</td>\n",
       "    </tr>\n",
       "    <tr>\n",
       "      <th>382</th>\n",
       "      <td>완도군</td>\n",
       "      <td>기술유망</td>\n",
       "    </tr>\n",
       "    <tr>\n",
       "      <th>383</th>\n",
       "      <td>진도군</td>\n",
       "      <td>수출유망</td>\n",
       "    </tr>\n",
       "    <tr>\n",
       "      <th>384</th>\n",
       "      <td>진도군</td>\n",
       "      <td>지역특화</td>\n",
       "    </tr>\n",
       "    <tr>\n",
       "      <th>385</th>\n",
       "      <td>신안군</td>\n",
       "      <td>기술유망</td>\n",
       "    </tr>\n",
       "  </tbody>\n",
       "</table>\n",
       "<p>386 rows × 2 columns</p>\n",
       "</div>"
      ],
      "text/plain": [
       "      시군  지정구분\n",
       "0    목포시  기술유망\n",
       "1    목포시  기술유망\n",
       "2    목포시  기술유망\n",
       "3    목포시  기술유망\n",
       "4    목포시  기술유망\n",
       "..   ...   ...\n",
       "381  완도군  지역특화\n",
       "382  완도군  기술유망\n",
       "383  진도군  수출유망\n",
       "384  진도군  지역특화\n",
       "385  신안군  기술유망\n",
       "\n",
       "[386 rows x 2 columns]"
      ]
     },
     "execution_count": 125,
     "metadata": {},
     "output_type": "execute_result"
    }
   ],
   "source": [
    "rawData"
   ]
  },
  {
   "cell_type": "code",
   "execution_count": 126,
   "metadata": {},
   "outputs": [],
   "source": [
    "# Oracle DB 연결\n",
    "# 접속정보(connection string) : ID/PASS@CONNECTION_ALIAS\n",
    "# CONNECTION_ALIAS : Oracle TNSNAMES.ORA 파일에 있는 접속정보 별칭(ALIAS)\n",
    "conn_ora = cx_Oracle.connect(\"prep1/prep1@XE\")\n",
    "\n",
    "# DB 커서(Cursor) 선언\n",
    "cur = conn_ora.cursor()\n",
    "\n",
    "# 사용할 Oracle 소스 테이블명 지정\n",
    "src_table = \"d_base3_2\"\n",
    "\n",
    "# 데이터프레임(rawData)에 저장된 데이터를 Oracle 테이블(d_base3_2)에 입력하기 위한 로직\n",
    "# d_base3_2 테이블 존재하는지 체크하는 함수\n",
    "def table_exists(name=None, con=None):\n",
    "    sql = \"select table_name from user_tables where table_name='MYTABLE'\".replace('MYTABLE', name.upper())\n",
    "    df = pd.read_sql(sql, con)\n",
    "\n",
    "    # 테이블이 존재하면 True, 그렇지 않으면 False 반환\n",
    "    exists = True if len(df) > 0 else False\n",
    "    return exists\n",
    "\n",
    "# 테이블(d_base3_2) 생성 (테이블이 이미 존재한다면 TRUNCATE TABLE)\n",
    "if table_exists(src_table, conn_ora):\n",
    "    cur.execute(\"TRUNCATE TABLE \" + src_table)\n",
    "else:\n",
    "    cur.execute(\"create table \" + src_table + \" ( \\\n",
    "               시군 varchar2(10), \\\n",
    "               지정구분 varchar2(20))\")\n",
    "\n",
    "# Sequence 구조를 Dictionary 구조((element, value))로 변환하는 함수\n",
    "# 예: (\"Matt\", 1) -> {'1':'Matt', '2':1}\n",
    "# INSERT INTO ... VALUES (:1, :2, ...) 에서 바인드 변수값을 주기위해 Dictionary item 구조 사용\n",
    "def convertSequenceToDict(list):\n",
    "    dict = {}\n",
    "    argList = range(1, len(list) + 1)\n",
    "    for k, v in zip(argList, list):\n",
    "        dict[str(k)] = v\n",
    "    return dict\n",
    "\n",
    "# 데이터프레임에 저장된 데이터를 Oracle 테이블로 입력(insert)\n",
    "cols = [k for k in rawData.dtypes.index]\n",
    "colnames = ','.join(cols)\n",
    "colpos = ', '.join([':' + str(i + 1) for i, f in enumerate(cols)])\n",
    "insert_sql = 'INSERT INTO %s (%s) VALUES (%s)' % (src_table, colnames, colpos)\n",
    "\n",
    "# INSERT INTO ... VALUES (:1, :2, ...)의 바인드 변수 값을 저장하는 Dictionary 구조 생성\n",
    "data = [convertSequenceToDict(rec) for rec in rawData.values]\n",
    "\n",
    "# 바인드 변수와 Dictionary 데이터구조를 활용하여 Bulk Insertion 구현\n",
    "cur.executemany(insert_sql, data)\n",
    "conn_ora.commit()"
   ]
  },
  {
   "cell_type": "markdown",
   "metadata": {},
   "source": [
    "### 실무예제 2-2의 Oracle 연동 설명 참조\n",
    "### Oracle sqlplus를 통해서 d_base3_2 테이블 생성 확인"
   ]
  },
  {
   "cell_type": "code",
   "execution_count": 127,
   "metadata": {},
   "outputs": [],
   "source": [
    "# 관측도수/기대도수 분할표 생성 (1차원 배열 형식)\n",
    "count_df = pd.read_sql(\"\"\"select a.시군\n",
    "                        , a.지정구분\n",
    "                        , nvl(b.관측도수,0) 관측도수 /*관측되지않은 (시군+지정구분)은 0으로 처리*/\n",
    "                        , a.기대도수_시군 * a.기대도수_지정구분 / a.기대도수_전체 기대도수\n",
    "                      from (\n",
    "                             select x.시군, y.지정구분\n",
    "                                  , x.기대도수_시군\n",
    "                                  , y.기대도수_지정구분\n",
    "                                  , x.기대도수_전체\n",
    "                             from ( select 시군\n",
    "                                         , count(*) 기대도수_시군 /* 시군 속성의 cardinality */\n",
    "                                         , sum(count(*)) over () 기대도수_전체 /* 전체 행 개수 */\n",
    "                                    from \"\"\" + src_table + \"\"\"\n",
    "                                    group by 시군 ) x,\n",
    "                           ( select 지정구분\n",
    "                                  , count(*) 기대도수_지정구분 /* 지정구분 속성의 cardinality */\n",
    "                             from \"\"\" + src_table + \"\"\"\n",
    "                             group by 지정구분 ) y ) a,\n",
    "                           ( select 시군\n",
    "                                  , 지정구분\n",
    "                                  , count(*) 관측도수 /* 시군, 지정구분 별 실제 행 개수 */\n",
    "                             from \"\"\" + src_table + \"\"\"\n",
    "                             group by 시군, 지정구분 ) b\n",
    "                      where a.시군 = b.시군(+) /* 특정 (시군+지정구분) 값은 존재하지 않을 수\n",
    "                                                있어서 외부조인으로 처리 */\n",
    "                           and a.지정구분 = b.지정구분(+)\"\"\", con=conn_ora)"
   ]
  },
  {
   "cell_type": "markdown",
   "metadata": {},
   "source": [
    "### pandas 데이터프레임에 카이제곱 검정을 위한 관측도수/기대도수 분할표 저장\n",
    "### ‘시군’ 속성 ‘지정구분’ 속성에 대한 관측도수와 기대도수를 구하기 위해서 Oracle SQL을 활용\n",
    "#### 관측도수 :  ‘시군’과 ‘지정구분’ 속성값의 조합에 대한 실제 출현횟수\n",
    "#### 기대도수 : 전체 행의 개수와 각 속성의 카디널러티(cardinality, 서로 다른 속성값의 개수)를 구하여 산출\n",
    "#### 실제 출현하지 않은 (시군+지정구분) 속성값도 포함시키기 위해서 외부조인(outer join)을 수행"
   ]
  },
  {
   "cell_type": "code",
   "execution_count": 128,
   "metadata": {},
   "outputs": [
    {
     "data": {
      "text/html": [
       "<div>\n",
       "<style scoped>\n",
       "    .dataframe tbody tr th:only-of-type {\n",
       "        vertical-align: middle;\n",
       "    }\n",
       "\n",
       "    .dataframe tbody tr th {\n",
       "        vertical-align: top;\n",
       "    }\n",
       "\n",
       "    .dataframe thead th {\n",
       "        text-align: right;\n",
       "    }\n",
       "</style>\n",
       "<table border=\"1\" class=\"dataframe\">\n",
       "  <thead>\n",
       "    <tr style=\"text-align: right;\">\n",
       "      <th></th>\n",
       "      <th>시군</th>\n",
       "      <th>지정구분</th>\n",
       "      <th>관측도수</th>\n",
       "      <th>기대도수</th>\n",
       "    </tr>\n",
       "  </thead>\n",
       "  <tbody>\n",
       "    <tr>\n",
       "      <th>0</th>\n",
       "      <td>고흥군</td>\n",
       "      <td>지역특화</td>\n",
       "      <td>0</td>\n",
       "      <td>1.134715</td>\n",
       "    </tr>\n",
       "    <tr>\n",
       "      <th>1</th>\n",
       "      <td>목포시</td>\n",
       "      <td>지역특화</td>\n",
       "      <td>1</td>\n",
       "      <td>3.782383</td>\n",
       "    </tr>\n",
       "    <tr>\n",
       "      <th>2</th>\n",
       "      <td>나주시</td>\n",
       "      <td>지역특화</td>\n",
       "      <td>10</td>\n",
       "      <td>6.619171</td>\n",
       "    </tr>\n",
       "    <tr>\n",
       "      <th>3</th>\n",
       "      <td>해남군</td>\n",
       "      <td>지역특화</td>\n",
       "      <td>2</td>\n",
       "      <td>1.323834</td>\n",
       "    </tr>\n",
       "    <tr>\n",
       "      <th>4</th>\n",
       "      <td>무안군</td>\n",
       "      <td>지역특화</td>\n",
       "      <td>5</td>\n",
       "      <td>3.215026</td>\n",
       "    </tr>\n",
       "    <tr>\n",
       "      <th>...</th>\n",
       "      <td>...</td>\n",
       "      <td>...</td>\n",
       "      <td>...</td>\n",
       "      <td>...</td>\n",
       "    </tr>\n",
       "    <tr>\n",
       "      <th>61</th>\n",
       "      <td>함평군</td>\n",
       "      <td>기술유망</td>\n",
       "      <td>6</td>\n",
       "      <td>5.875648</td>\n",
       "    </tr>\n",
       "    <tr>\n",
       "      <th>62</th>\n",
       "      <td>담양군</td>\n",
       "      <td>기술유망</td>\n",
       "      <td>14</td>\n",
       "      <td>11.098446</td>\n",
       "    </tr>\n",
       "    <tr>\n",
       "      <th>63</th>\n",
       "      <td>장흥군</td>\n",
       "      <td>기술유망</td>\n",
       "      <td>2</td>\n",
       "      <td>3.917098</td>\n",
       "    </tr>\n",
       "    <tr>\n",
       "      <th>64</th>\n",
       "      <td>화순군</td>\n",
       "      <td>기술유망</td>\n",
       "      <td>23</td>\n",
       "      <td>20.238342</td>\n",
       "    </tr>\n",
       "    <tr>\n",
       "      <th>65</th>\n",
       "      <td>여수시</td>\n",
       "      <td>기술유망</td>\n",
       "      <td>23</td>\n",
       "      <td>22.849741</td>\n",
       "    </tr>\n",
       "  </tbody>\n",
       "</table>\n",
       "<p>66 rows × 4 columns</p>\n",
       "</div>"
      ],
      "text/plain": [
       "     시군  지정구분  관측도수       기대도수\n",
       "0   고흥군  지역특화     0   1.134715\n",
       "1   목포시  지역특화     1   3.782383\n",
       "2   나주시  지역특화    10   6.619171\n",
       "3   해남군  지역특화     2   1.323834\n",
       "4   무안군  지역특화     5   3.215026\n",
       "..  ...   ...   ...        ...\n",
       "61  함평군  기술유망     6   5.875648\n",
       "62  담양군  기술유망    14  11.098446\n",
       "63  장흥군  기술유망     2   3.917098\n",
       "64  화순군  기술유망    23  20.238342\n",
       "65  여수시  기술유망    23  22.849741\n",
       "\n",
       "[66 rows x 4 columns]"
      ]
     },
     "execution_count": 128,
     "metadata": {},
     "output_type": "execute_result"
    }
   ],
   "source": [
    "# 관측도수/기대도수 분할표 출력\n",
    "count_df"
   ]
  },
  {
   "cell_type": "code",
   "execution_count": 129,
   "metadata": {},
   "outputs": [],
   "source": [
    "# 2개 속성에 대한 자유도(degree of freedom) 갭 구하기\n",
    "# A 속성에 대한 cardinality = a, B 속성에 대한 cardinality = b라 가정\n",
    "# cardinality : 서로 다른 속성값의 개수\n",
    "# 분할표 전체 행 갯수(a*b) 구하기\n",
    "tot_rows = count_df.shape[0]"
   ]
  },
  {
   "cell_type": "markdown",
   "metadata": {},
   "source": [
    "### ‘시군’ 속성의 카디널러티(a) = 22\n",
    "### ‘지정구분’ 속성의 카디널러티(b) = 3\n",
    "### 그래서, (시군+지정구분) 속성조합의 카디널러티(a\\*b) = 22 * 3 = 66"
   ]
  },
  {
   "cell_type": "code",
   "execution_count": 130,
   "metadata": {},
   "outputs": [
    {
     "data": {
      "text/plain": [
       "66"
      ]
     },
     "execution_count": 130,
     "metadata": {},
     "output_type": "execute_result"
    }
   ],
   "source": [
    "tot_rows  # 변수확인"
   ]
  },
  {
   "cell_type": "code",
   "execution_count": 131,
   "metadata": {},
   "outputs": [],
   "source": [
    "# A 속성의 cardianlity(a)와 B 속성의 cardinality(b) 구하기\n",
    "count_df2 = pd.read_sql(\"select count(distinct 시군) 도수_시군 \\\n",
    "                           , count(distinct 지정구분) 도수_지정구분\\\n",
    "                      from \" + src_table , con=conn_ora)"
   ]
  },
  {
   "cell_type": "code",
   "execution_count": 132,
   "metadata": {},
   "outputs": [
    {
     "data": {
      "text/html": [
       "<div>\n",
       "<style scoped>\n",
       "    .dataframe tbody tr th:only-of-type {\n",
       "        vertical-align: middle;\n",
       "    }\n",
       "\n",
       "    .dataframe tbody tr th {\n",
       "        vertical-align: top;\n",
       "    }\n",
       "\n",
       "    .dataframe thead th {\n",
       "        text-align: right;\n",
       "    }\n",
       "</style>\n",
       "<table border=\"1\" class=\"dataframe\">\n",
       "  <thead>\n",
       "    <tr style=\"text-align: right;\">\n",
       "      <th></th>\n",
       "      <th>도수_시군</th>\n",
       "      <th>도수_지정구분</th>\n",
       "    </tr>\n",
       "  </thead>\n",
       "  <tbody>\n",
       "    <tr>\n",
       "      <th>0</th>\n",
       "      <td>22</td>\n",
       "      <td>3</td>\n",
       "    </tr>\n",
       "  </tbody>\n",
       "</table>\n",
       "</div>"
      ],
      "text/plain": [
       "   도수_시군  도수_지정구분\n",
       "0     22        3"
      ]
     },
     "execution_count": 132,
     "metadata": {},
     "output_type": "execute_result"
    }
   ],
   "source": [
    "count_df2  # 변수확인"
   ]
  },
  {
   "cell_type": "code",
   "execution_count": 133,
   "metadata": {},
   "outputs": [],
   "source": [
    "# cardinality 갭 [(a*b-1) - (a-1)*(b-1)] 구하기\n",
    "v_ddof = (tot_rows - 1) - (count_df2['도수_시군']-1)*(count_df2['도수_지정구분']-1)"
   ]
  },
  {
   "cell_type": "markdown",
   "metadata": {},
   "source": [
    "### 속성조합의 자유도(degree of freedom) = (66-1) = 65\n",
    "### 실제 자유도는 (22-1) * (3-1) = 42\n",
    "### 위 두 값의 차이 : 23 -> chisquare() 함수의 세번째 패러미터로 사용"
   ]
  },
  {
   "cell_type": "code",
   "execution_count": 134,
   "metadata": {},
   "outputs": [
    {
     "data": {
      "text/plain": [
       "0    23\n",
       "dtype: int64"
      ]
     },
     "execution_count": 134,
     "metadata": {},
     "output_type": "execute_result"
    }
   ],
   "source": [
    "v_ddof  # 변수확인"
   ]
  },
  {
   "cell_type": "code",
   "execution_count": 135,
   "metadata": {},
   "outputs": [],
   "source": [
    "obs_array = count_df['관측도수'] # obs_array : 관측도수를 저장하는 1차원 배열"
   ]
  },
  {
   "cell_type": "markdown",
   "metadata": {},
   "source": [
    "### obs_array : chisquare() 함수의 첫번째 패러미터로 사용"
   ]
  },
  {
   "cell_type": "code",
   "execution_count": 136,
   "metadata": {},
   "outputs": [
    {
     "data": {
      "text/plain": [
       "0      0\n",
       "1      1\n",
       "2     10\n",
       "3      2\n",
       "4      5\n",
       "      ..\n",
       "61     6\n",
       "62    14\n",
       "63     2\n",
       "64    23\n",
       "65    23\n",
       "Name: 관측도수, Length: 66, dtype: int64"
      ]
     },
     "execution_count": 136,
     "metadata": {},
     "output_type": "execute_result"
    }
   ],
   "source": [
    "obs_array  # 변수확인"
   ]
  },
  {
   "cell_type": "code",
   "execution_count": 137,
   "metadata": {},
   "outputs": [],
   "source": [
    "exp_array = count_df['기대도수'] # exp_array : 기대도수를 저장하는 1차원 배열"
   ]
  },
  {
   "cell_type": "markdown",
   "metadata": {},
   "source": [
    "### exp_array : chisquare() 함수의 두번째 패러미터로 사용"
   ]
  },
  {
   "cell_type": "code",
   "execution_count": 138,
   "metadata": {},
   "outputs": [
    {
     "data": {
      "text/plain": [
       "0      1.134715\n",
       "1      3.782383\n",
       "2      6.619171\n",
       "3      1.323834\n",
       "4      3.215026\n",
       "        ...    \n",
       "61     5.875648\n",
       "62    11.098446\n",
       "63     3.917098\n",
       "64    20.238342\n",
       "65    22.849741\n",
       "Name: 기대도수, Length: 66, dtype: float64"
      ]
     },
     "execution_count": 138,
     "metadata": {},
     "output_type": "execute_result"
    }
   ],
   "source": [
    "exp_array  # 변수확인"
   ]
  },
  {
   "cell_type": "code",
   "execution_count": 139,
   "metadata": {},
   "outputs": [
    {
     "ename": "ImportError",
     "evalue": "cannot import name 'float_factorial' from 'scipy._lib._util' (C:\\Users\\a\\anaconda3\\lib\\site-packages\\scipy\\_lib\\_util.py)",
     "output_type": "error",
     "traceback": [
      "\u001b[1;31m---------------------------------------------------------------------------\u001b[0m",
      "\u001b[1;31mImportError\u001b[0m                               Traceback (most recent call last)",
      "\u001b[1;32m<ipython-input-139-b668c56e1f61>\u001b[0m in \u001b[0;36m<module>\u001b[1;34m\u001b[0m\n\u001b[0;32m      1\u001b[0m \u001b[1;31m# 카이제곱검정을 위한 scipy 패키지 중 stats 모듈 임포트\u001b[0m\u001b[1;33m\u001b[0m\u001b[1;33m\u001b[0m\u001b[1;33m\u001b[0m\u001b[0m\n\u001b[1;32m----> 2\u001b[1;33m \u001b[1;32mfrom\u001b[0m \u001b[0mscipy\u001b[0m \u001b[1;32mimport\u001b[0m \u001b[0mstats\u001b[0m\u001b[1;33m\u001b[0m\u001b[1;33m\u001b[0m\u001b[0m\n\u001b[0m",
      "\u001b[1;32m~\\anaconda3\\lib\\site-packages\\scipy\\stats\\__init__.py\u001b[0m in \u001b[0;36m<module>\u001b[1;34m\u001b[0m\n\u001b[0;32m    439\u001b[0m \"\"\"\n\u001b[0;32m    440\u001b[0m \u001b[1;33m\u001b[0m\u001b[0m\n\u001b[1;32m--> 441\u001b[1;33m \u001b[1;32mfrom\u001b[0m \u001b[1;33m.\u001b[0m\u001b[0mstats\u001b[0m \u001b[1;32mimport\u001b[0m \u001b[1;33m*\u001b[0m\u001b[1;33m\u001b[0m\u001b[1;33m\u001b[0m\u001b[0m\n\u001b[0m\u001b[0;32m    442\u001b[0m \u001b[1;32mfrom\u001b[0m \u001b[1;33m.\u001b[0m\u001b[0mdistributions\u001b[0m \u001b[1;32mimport\u001b[0m \u001b[1;33m*\u001b[0m\u001b[1;33m\u001b[0m\u001b[1;33m\u001b[0m\u001b[0m\n\u001b[0;32m    443\u001b[0m \u001b[1;32mfrom\u001b[0m \u001b[1;33m.\u001b[0m\u001b[0mmorestats\u001b[0m \u001b[1;32mimport\u001b[0m \u001b[1;33m*\u001b[0m\u001b[1;33m\u001b[0m\u001b[1;33m\u001b[0m\u001b[0m\n",
      "\u001b[1;32m~\\anaconda3\\lib\\site-packages\\scipy\\stats\\stats.py\u001b[0m in \u001b[0;36m<module>\u001b[1;34m\u001b[0m\n\u001b[0;32m     37\u001b[0m \u001b[1;32mfrom\u001b[0m \u001b[0mscipy\u001b[0m\u001b[1;33m.\u001b[0m\u001b[0mspatial\u001b[0m\u001b[1;33m.\u001b[0m\u001b[0mdistance\u001b[0m \u001b[1;32mimport\u001b[0m \u001b[0mcdist\u001b[0m\u001b[1;33m\u001b[0m\u001b[1;33m\u001b[0m\u001b[0m\n\u001b[0;32m     38\u001b[0m \u001b[1;32mfrom\u001b[0m \u001b[0mscipy\u001b[0m\u001b[1;33m.\u001b[0m\u001b[0mndimage\u001b[0m \u001b[1;32mimport\u001b[0m \u001b[0mmeasurements\u001b[0m\u001b[1;33m\u001b[0m\u001b[1;33m\u001b[0m\u001b[0m\n\u001b[1;32m---> 39\u001b[1;33m from scipy._lib._util import (check_random_state, MapWrapper,\n\u001b[0m\u001b[0;32m     40\u001b[0m                               rng_integers, float_factorial)\n\u001b[0;32m     41\u001b[0m \u001b[1;32mimport\u001b[0m \u001b[0mscipy\u001b[0m\u001b[1;33m.\u001b[0m\u001b[0mspecial\u001b[0m \u001b[1;32mas\u001b[0m \u001b[0mspecial\u001b[0m\u001b[1;33m\u001b[0m\u001b[1;33m\u001b[0m\u001b[0m\n",
      "\u001b[1;31mImportError\u001b[0m: cannot import name 'float_factorial' from 'scipy._lib._util' (C:\\Users\\a\\anaconda3\\lib\\site-packages\\scipy\\_lib\\_util.py)"
     ]
    }
   ],
   "source": [
    "# 카이제곱검정을 위한 scipy 패키지 중 stats 모듈 임포트\n",
    "from scipy import stats"
   ]
  },
  {
   "cell_type": "code",
   "execution_count": 140,
   "metadata": {},
   "outputs": [
    {
     "ename": "NameError",
     "evalue": "name 'stats' is not defined",
     "output_type": "error",
     "traceback": [
      "\u001b[1;31m---------------------------------------------------------------------------\u001b[0m",
      "\u001b[1;31mNameError\u001b[0m                                 Traceback (most recent call last)",
      "\u001b[1;32m<ipython-input-140-7df1ebb278d8>\u001b[0m in \u001b[0;36m<module>\u001b[1;34m\u001b[0m\n\u001b[0;32m      1\u001b[0m \u001b[1;31m# stats.chisquare() : 카이제곱검정 함수\u001b[0m\u001b[1;33m\u001b[0m\u001b[1;33m\u001b[0m\u001b[1;33m\u001b[0m\u001b[0m\n\u001b[1;32m----> 2\u001b[1;33m \u001b[0mchis\u001b[0m \u001b[1;33m=\u001b[0m \u001b[0mstats\u001b[0m\u001b[1;33m.\u001b[0m\u001b[0mchisquare\u001b[0m\u001b[1;33m(\u001b[0m\u001b[0mobs_array\u001b[0m\u001b[1;33m,\u001b[0m \u001b[0mexp_array\u001b[0m\u001b[1;33m,\u001b[0m \u001b[0mddof\u001b[0m\u001b[1;33m=\u001b[0m\u001b[0mv_ddof\u001b[0m\u001b[1;33m)\u001b[0m\u001b[1;33m\u001b[0m\u001b[1;33m\u001b[0m\u001b[0m\n\u001b[0m",
      "\u001b[1;31mNameError\u001b[0m: name 'stats' is not defined"
     ]
    }
   ],
   "source": [
    "# stats.chisquare() : 카이제곱검정 함수\n",
    "chis = stats.chisquare(obs_array, exp_array, ddof=v_ddof)"
   ]
  },
  {
   "cell_type": "markdown",
   "metadata": {},
   "source": [
    "### chisquare() 함수 : 카이제곱(χ2) 통계량을 산출하는 함수\n",
    "#### 첫번째 패러미터 : 1차원 배열 형태의 관측도수 리스트\n",
    "#### 두번째 패러미터 : 1차원 배열 형태의 기대도수 리스트\n",
    "#### 세번째 패러미터 : 자유도 차이 [(a\\*b-1) - (a-1)\\*(b-1)]"
   ]
  },
  {
   "cell_type": "code",
   "execution_count": 141,
   "metadata": {},
   "outputs": [
    {
     "ename": "NameError",
     "evalue": "name 'chis' is not defined",
     "output_type": "error",
     "traceback": [
      "\u001b[1;31m---------------------------------------------------------------------------\u001b[0m",
      "\u001b[1;31mNameError\u001b[0m                                 Traceback (most recent call last)",
      "\u001b[1;32m<ipython-input-141-f3791e94e0b6>\u001b[0m in \u001b[0;36m<module>\u001b[1;34m\u001b[0m\n\u001b[0;32m      1\u001b[0m \u001b[1;31m# stats.chisquare() 수행 후의 카이제곱 통계량과 p-value\u001b[0m\u001b[1;33m\u001b[0m\u001b[1;33m\u001b[0m\u001b[1;33m\u001b[0m\u001b[0m\n\u001b[1;32m----> 2\u001b[1;33m \u001b[0mprint\u001b[0m\u001b[1;33m(\u001b[0m\u001b[1;34m\"statistic = %.3f, p-value = %.5f\"\u001b[0m \u001b[1;33m%\u001b[0m \u001b[1;33m(\u001b[0m\u001b[0mchis\u001b[0m\u001b[1;33m)\u001b[0m\u001b[1;33m)\u001b[0m\u001b[1;33m\u001b[0m\u001b[1;33m\u001b[0m\u001b[0m\n\u001b[0m",
      "\u001b[1;31mNameError\u001b[0m: name 'chis' is not defined"
     ]
    }
   ],
   "source": [
    "# stats.chisquare() 수행 후의 카이제곱 통계량과 p-value\n",
    "print(\"statistic = %.3f, p-value = %.5f\" % (chis))"
   ]
  },
  {
   "cell_type": "markdown",
   "metadata": {},
   "source": [
    "### 카이제곱 통계량(statistic) : 54.544\n",
    "### 유의확률(p-value) : 0.09287\n",
    "### 유의확률이 유의수준 0.05로 설정한다면 귀무가설(두 속성은 연관성이 없다)이 채택됨. 결론적으로, 시군과 지정구분 사이에는 큰 연관성은 없는 것으로 판단할 수 있음."
   ]
  }
 ],
 "metadata": {
  "kernelspec": {
   "display_name": "Python 3",
   "language": "python",
   "name": "python3"
  },
  "language_info": {
   "codemirror_mode": {
    "name": "ipython",
    "version": 3
   },
   "file_extension": ".py",
   "mimetype": "text/x-python",
   "name": "python",
   "nbconvert_exporter": "python",
   "pygments_lexer": "ipython3",
   "version": "3.8.5"
  }
 },
 "nbformat": 4,
 "nbformat_minor": 2
}
