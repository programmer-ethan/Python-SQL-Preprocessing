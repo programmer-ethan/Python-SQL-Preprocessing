{
 "cells": [
  {
   "cell_type": "markdown",
   "source": [
    "# 실무예제 3-2"
   ],
   "metadata": {}
  },
  {
   "cell_type": "markdown",
   "source": [
    "## 다음은 2013년 전라남도 유망중소기업 지정업체 명단의 일부이다. 시군 속성과 지정구분 속성 간의 연관성 여부를 카이제곱 검정 방법에 의해 판단해 보시오. (단, 유의 수준은 0.05이다)"
   ],
   "metadata": {}
  },
  {
   "cell_type": "markdown",
   "source": [
    "### 데이터 파일 : ch3-2(유망중소기업현황).csv"
   ],
   "metadata": {}
  },
  {
   "cell_type": "markdown",
   "source": [
    "### 원본 투플수 : 386개"
   ],
   "metadata": {}
  },
  {
   "cell_type": "code",
   "execution_count": 1,
   "source": [
    "# ch3-2.py\r\n",
    "import pandas as pd\r\n",
    "import numpy as np\r\n",
    "# import cx_Oracle      # Oracle DB 연동을 위한 cx_Oracle 패키지 임포트\r\n",
    "\r\n",
    "# 데이터로드 (ch2-2.csv : 데이터 원본 파일)\r\n",
    "# encoding : 윈도우즈 환경에서의 한글 처리\r\n",
    "# engine : python 3.6에서 한글이 포함된 파일이름 사용\r\n",
    "rawData_org = pd.read_csv('.jupyter/ch3-2(유망중소기업현황).csv', encoding='CP949', engine='python')"
   ],
   "outputs": [],
   "metadata": {}
  },
  {
   "cell_type": "code",
   "execution_count": 2,
   "source": [
    "rawData_org"
   ],
   "outputs": [
    {
     "output_type": "execute_result",
     "data": {
      "text/plain": [
       "      연번   시군  지정구분          기업명  대표자                 소  재  지           주생산품  \\\n",
       "0      1  목포시  기술유망        브로드컴㈜  이봉헌  목포시 석현동 1175(벤처지원 202)           정보통신   \n",
       "1      2  목포시  기술유망        ㈜케이에스  김시오           목포시 연산동1236-3          용접철망외   \n",
       "2      3  목포시  기술유망      삼진물산(주)  김관석          목포시 연산동 1239-1          참치통조림   \n",
       "3      4  목포시  기술유망          ㈜혜성  전재두           목포시 연산동1237-3          가드레일외   \n",
       "4      5  목포시  기술유망     (유)한국메이드  이승룡          목포시 연산동 1238-4           선박블록   \n",
       "..   ...  ...   ...          ...  ...                     ...            ...   \n",
       "381  382  완도군  지역특화        ㈜세영산업  김주효              완도군 완도읍가용리         찐톳.건미역   \n",
       "382  383  완도군  기술유망       동주씨테크㈜  이용철      완도군 완도읍 가용리 1086-6    개량부자 전복양식자재   \n",
       "383  384  진도군  수출유망    대대로영농조합법인  김애란    진도군 군내면 명량대첩로 288-23             홍주   \n",
       "384  385  진도군  지역특화  진도정미소영농조합법인  이운갑         진도군 의신면 돈지리 144      흑미, 기타유색미   \n",
       "385  386  신안군  기술유망      ㈜영진그린식품  호병용      신안군 지도읍 두류산길 91-41  천일염\\r\\n기타 가공염   \n",
       "\n",
       "     전화번호(061) 비고\\r\\n(지정번호)  \n",
       "0     284-0017         11-1  \n",
       "1    1588-4118         11-2  \n",
       "2     270-6113         11-3  \n",
       "3    1588-2811         11-4  \n",
       "4     278-4411         11-5  \n",
       "..         ...          ...  \n",
       "381   555-0294       11-276  \n",
       "382   554-6690        12-63  \n",
       "383   542-3399       11-290  \n",
       "384   544-3459        12-64  \n",
       "385   275-2330       11-291  \n",
       "\n",
       "[386 rows x 9 columns]"
      ],
      "text/html": [
       "<div>\n",
       "<style scoped>\n",
       "    .dataframe tbody tr th:only-of-type {\n",
       "        vertical-align: middle;\n",
       "    }\n",
       "\n",
       "    .dataframe tbody tr th {\n",
       "        vertical-align: top;\n",
       "    }\n",
       "\n",
       "    .dataframe thead th {\n",
       "        text-align: right;\n",
       "    }\n",
       "</style>\n",
       "<table border=\"1\" class=\"dataframe\">\n",
       "  <thead>\n",
       "    <tr style=\"text-align: right;\">\n",
       "      <th></th>\n",
       "      <th>연번</th>\n",
       "      <th>시군</th>\n",
       "      <th>지정구분</th>\n",
       "      <th>기업명</th>\n",
       "      <th>대표자</th>\n",
       "      <th>소  재  지</th>\n",
       "      <th>주생산품</th>\n",
       "      <th>전화번호(061)</th>\n",
       "      <th>비고\\r\\n(지정번호)</th>\n",
       "    </tr>\n",
       "  </thead>\n",
       "  <tbody>\n",
       "    <tr>\n",
       "      <th>0</th>\n",
       "      <td>1</td>\n",
       "      <td>목포시</td>\n",
       "      <td>기술유망</td>\n",
       "      <td>브로드컴㈜</td>\n",
       "      <td>이봉헌</td>\n",
       "      <td>목포시 석현동 1175(벤처지원 202)</td>\n",
       "      <td>정보통신</td>\n",
       "      <td>284-0017</td>\n",
       "      <td>11-1</td>\n",
       "    </tr>\n",
       "    <tr>\n",
       "      <th>1</th>\n",
       "      <td>2</td>\n",
       "      <td>목포시</td>\n",
       "      <td>기술유망</td>\n",
       "      <td>㈜케이에스</td>\n",
       "      <td>김시오</td>\n",
       "      <td>목포시 연산동1236-3</td>\n",
       "      <td>용접철망외</td>\n",
       "      <td>1588-4118</td>\n",
       "      <td>11-2</td>\n",
       "    </tr>\n",
       "    <tr>\n",
       "      <th>2</th>\n",
       "      <td>3</td>\n",
       "      <td>목포시</td>\n",
       "      <td>기술유망</td>\n",
       "      <td>삼진물산(주)</td>\n",
       "      <td>김관석</td>\n",
       "      <td>목포시 연산동 1239-1</td>\n",
       "      <td>참치통조림</td>\n",
       "      <td>270-6113</td>\n",
       "      <td>11-3</td>\n",
       "    </tr>\n",
       "    <tr>\n",
       "      <th>3</th>\n",
       "      <td>4</td>\n",
       "      <td>목포시</td>\n",
       "      <td>기술유망</td>\n",
       "      <td>㈜혜성</td>\n",
       "      <td>전재두</td>\n",
       "      <td>목포시 연산동1237-3</td>\n",
       "      <td>가드레일외</td>\n",
       "      <td>1588-2811</td>\n",
       "      <td>11-4</td>\n",
       "    </tr>\n",
       "    <tr>\n",
       "      <th>4</th>\n",
       "      <td>5</td>\n",
       "      <td>목포시</td>\n",
       "      <td>기술유망</td>\n",
       "      <td>(유)한국메이드</td>\n",
       "      <td>이승룡</td>\n",
       "      <td>목포시 연산동 1238-4</td>\n",
       "      <td>선박블록</td>\n",
       "      <td>278-4411</td>\n",
       "      <td>11-5</td>\n",
       "    </tr>\n",
       "    <tr>\n",
       "      <th>...</th>\n",
       "      <td>...</td>\n",
       "      <td>...</td>\n",
       "      <td>...</td>\n",
       "      <td>...</td>\n",
       "      <td>...</td>\n",
       "      <td>...</td>\n",
       "      <td>...</td>\n",
       "      <td>...</td>\n",
       "      <td>...</td>\n",
       "    </tr>\n",
       "    <tr>\n",
       "      <th>381</th>\n",
       "      <td>382</td>\n",
       "      <td>완도군</td>\n",
       "      <td>지역특화</td>\n",
       "      <td>㈜세영산업</td>\n",
       "      <td>김주효</td>\n",
       "      <td>완도군 완도읍가용리</td>\n",
       "      <td>찐톳.건미역</td>\n",
       "      <td>555-0294</td>\n",
       "      <td>11-276</td>\n",
       "    </tr>\n",
       "    <tr>\n",
       "      <th>382</th>\n",
       "      <td>383</td>\n",
       "      <td>완도군</td>\n",
       "      <td>기술유망</td>\n",
       "      <td>동주씨테크㈜</td>\n",
       "      <td>이용철</td>\n",
       "      <td>완도군 완도읍 가용리 1086-6</td>\n",
       "      <td>개량부자 전복양식자재</td>\n",
       "      <td>554-6690</td>\n",
       "      <td>12-63</td>\n",
       "    </tr>\n",
       "    <tr>\n",
       "      <th>383</th>\n",
       "      <td>384</td>\n",
       "      <td>진도군</td>\n",
       "      <td>수출유망</td>\n",
       "      <td>대대로영농조합법인</td>\n",
       "      <td>김애란</td>\n",
       "      <td>진도군 군내면 명량대첩로 288-23</td>\n",
       "      <td>홍주</td>\n",
       "      <td>542-3399</td>\n",
       "      <td>11-290</td>\n",
       "    </tr>\n",
       "    <tr>\n",
       "      <th>384</th>\n",
       "      <td>385</td>\n",
       "      <td>진도군</td>\n",
       "      <td>지역특화</td>\n",
       "      <td>진도정미소영농조합법인</td>\n",
       "      <td>이운갑</td>\n",
       "      <td>진도군 의신면 돈지리 144</td>\n",
       "      <td>흑미, 기타유색미</td>\n",
       "      <td>544-3459</td>\n",
       "      <td>12-64</td>\n",
       "    </tr>\n",
       "    <tr>\n",
       "      <th>385</th>\n",
       "      <td>386</td>\n",
       "      <td>신안군</td>\n",
       "      <td>기술유망</td>\n",
       "      <td>㈜영진그린식품</td>\n",
       "      <td>호병용</td>\n",
       "      <td>신안군 지도읍 두류산길 91-41</td>\n",
       "      <td>천일염\\r\\n기타 가공염</td>\n",
       "      <td>275-2330</td>\n",
       "      <td>11-291</td>\n",
       "    </tr>\n",
       "  </tbody>\n",
       "</table>\n",
       "<p>386 rows × 9 columns</p>\n",
       "</div>"
      ]
     },
     "metadata": {},
     "execution_count": 2
    }
   ],
   "metadata": {}
  },
  {
   "cell_type": "code",
   "execution_count": 3,
   "source": [
    "# 원본 데이터파일에서 '시군'과 '지정구분' 속성만 추출\r\n",
    "rawData = rawData_org.loc[:,'시군':'지정구분']"
   ],
   "outputs": [],
   "metadata": {}
  },
  {
   "cell_type": "code",
   "execution_count": 4,
   "source": [
    "rawData"
   ],
   "outputs": [
    {
     "output_type": "execute_result",
     "data": {
      "text/plain": [
       "      시군  지정구분\n",
       "0    목포시  기술유망\n",
       "1    목포시  기술유망\n",
       "2    목포시  기술유망\n",
       "3    목포시  기술유망\n",
       "4    목포시  기술유망\n",
       "..   ...   ...\n",
       "381  완도군  지역특화\n",
       "382  완도군  기술유망\n",
       "383  진도군  수출유망\n",
       "384  진도군  지역특화\n",
       "385  신안군  기술유망\n",
       "\n",
       "[386 rows x 2 columns]"
      ],
      "text/html": [
       "<div>\n",
       "<style scoped>\n",
       "    .dataframe tbody tr th:only-of-type {\n",
       "        vertical-align: middle;\n",
       "    }\n",
       "\n",
       "    .dataframe tbody tr th {\n",
       "        vertical-align: top;\n",
       "    }\n",
       "\n",
       "    .dataframe thead th {\n",
       "        text-align: right;\n",
       "    }\n",
       "</style>\n",
       "<table border=\"1\" class=\"dataframe\">\n",
       "  <thead>\n",
       "    <tr style=\"text-align: right;\">\n",
       "      <th></th>\n",
       "      <th>시군</th>\n",
       "      <th>지정구분</th>\n",
       "    </tr>\n",
       "  </thead>\n",
       "  <tbody>\n",
       "    <tr>\n",
       "      <th>0</th>\n",
       "      <td>목포시</td>\n",
       "      <td>기술유망</td>\n",
       "    </tr>\n",
       "    <tr>\n",
       "      <th>1</th>\n",
       "      <td>목포시</td>\n",
       "      <td>기술유망</td>\n",
       "    </tr>\n",
       "    <tr>\n",
       "      <th>2</th>\n",
       "      <td>목포시</td>\n",
       "      <td>기술유망</td>\n",
       "    </tr>\n",
       "    <tr>\n",
       "      <th>3</th>\n",
       "      <td>목포시</td>\n",
       "      <td>기술유망</td>\n",
       "    </tr>\n",
       "    <tr>\n",
       "      <th>4</th>\n",
       "      <td>목포시</td>\n",
       "      <td>기술유망</td>\n",
       "    </tr>\n",
       "    <tr>\n",
       "      <th>...</th>\n",
       "      <td>...</td>\n",
       "      <td>...</td>\n",
       "    </tr>\n",
       "    <tr>\n",
       "      <th>381</th>\n",
       "      <td>완도군</td>\n",
       "      <td>지역특화</td>\n",
       "    </tr>\n",
       "    <tr>\n",
       "      <th>382</th>\n",
       "      <td>완도군</td>\n",
       "      <td>기술유망</td>\n",
       "    </tr>\n",
       "    <tr>\n",
       "      <th>383</th>\n",
       "      <td>진도군</td>\n",
       "      <td>수출유망</td>\n",
       "    </tr>\n",
       "    <tr>\n",
       "      <th>384</th>\n",
       "      <td>진도군</td>\n",
       "      <td>지역특화</td>\n",
       "    </tr>\n",
       "    <tr>\n",
       "      <th>385</th>\n",
       "      <td>신안군</td>\n",
       "      <td>기술유망</td>\n",
       "    </tr>\n",
       "  </tbody>\n",
       "</table>\n",
       "<p>386 rows × 2 columns</p>\n",
       "</div>"
      ]
     },
     "metadata": {},
     "execution_count": 4
    }
   ],
   "metadata": {}
  },
  {
   "cell_type": "markdown",
   "source": [
    "### pandas 데이터프레임에 카이제곱 검정을 위한 관측도수/기대도수 분할표 저장\n",
    "### ‘시군’ 속성 ‘지정구분’ 속성에 대한 관측도수와 기대도수\n",
    "#### 관측도수 :  ‘시군’과 ‘지정구분’ 속성값의 조합에 대한 실제 출현횟수\n",
    "#### 기대도수 : 전체 행의 개수와 각 속성의 카디널러티(cardinality, 서로 다른 속성값의 개수)를 구하여 산출\n",
    "#### 실제 출현하지 않은 (시군+지정구분) 속성값도 포함시키기 위해서 외부조인(outer join)을 수행"
   ],
   "metadata": {}
  },
  {
   "cell_type": "code",
   "execution_count": 6,
   "source": [
    "# 관측도수 구하기\r\n",
    "obs_df = pd.DataFrame(data=rawData.groupby(['시군','지정구분'])['시군'].count())\r\n",
    "obs_df.columns=['관측도수']\r\n",
    "obs_df.reset_index(inplace=True)\r\n",
    "obs_df.head()"
   ],
   "outputs": [
    {
     "output_type": "execute_result",
     "data": {
      "text/plain": [
       "    시군  지정구분  관측도수\n",
       "0  강진군  기술유망     2\n",
       "1  강진군  수출유망     1\n",
       "2  강진군  지역특화     4\n",
       "3  고흥군  기술유망     5\n",
       "4  고흥군  수출유망     1"
      ],
      "text/html": [
       "<div>\n",
       "<style scoped>\n",
       "    .dataframe tbody tr th:only-of-type {\n",
       "        vertical-align: middle;\n",
       "    }\n",
       "\n",
       "    .dataframe tbody tr th {\n",
       "        vertical-align: top;\n",
       "    }\n",
       "\n",
       "    .dataframe thead th {\n",
       "        text-align: right;\n",
       "    }\n",
       "</style>\n",
       "<table border=\"1\" class=\"dataframe\">\n",
       "  <thead>\n",
       "    <tr style=\"text-align: right;\">\n",
       "      <th></th>\n",
       "      <th>시군</th>\n",
       "      <th>지정구분</th>\n",
       "      <th>관측도수</th>\n",
       "    </tr>\n",
       "  </thead>\n",
       "  <tbody>\n",
       "    <tr>\n",
       "      <th>0</th>\n",
       "      <td>강진군</td>\n",
       "      <td>기술유망</td>\n",
       "      <td>2</td>\n",
       "    </tr>\n",
       "    <tr>\n",
       "      <th>1</th>\n",
       "      <td>강진군</td>\n",
       "      <td>수출유망</td>\n",
       "      <td>1</td>\n",
       "    </tr>\n",
       "    <tr>\n",
       "      <th>2</th>\n",
       "      <td>강진군</td>\n",
       "      <td>지역특화</td>\n",
       "      <td>4</td>\n",
       "    </tr>\n",
       "    <tr>\n",
       "      <th>3</th>\n",
       "      <td>고흥군</td>\n",
       "      <td>기술유망</td>\n",
       "      <td>5</td>\n",
       "    </tr>\n",
       "    <tr>\n",
       "      <th>4</th>\n",
       "      <td>고흥군</td>\n",
       "      <td>수출유망</td>\n",
       "      <td>1</td>\n",
       "    </tr>\n",
       "  </tbody>\n",
       "</table>\n",
       "</div>"
      ]
     },
     "metadata": {},
     "execution_count": 6
    }
   ],
   "metadata": {}
  },
  {
   "cell_type": "code",
   "execution_count": 7,
   "source": [
    "# 기대도수 구하기\r\n",
    "# 시군별 개수(도수)\r\n",
    "sigun_df = pd.DataFrame(data=rawData.groupby(['시군'])['지정구분'].count())\r\n",
    "sigun_df.columns=['기대도수_시군']\r\n",
    "sigun_df.reset_index(inplace=True)\r\n",
    "sigun_df.head()"
   ],
   "outputs": [
    {
     "output_type": "execute_result",
     "data": {
      "text/plain": [
       "    시군  기대도수_시군\n",
       "0  강진군        7\n",
       "1  고흥군        6\n",
       "2  곡성군        6\n",
       "3  광양시       50\n",
       "4  구례군        8"
      ],
      "text/html": [
       "<div>\n",
       "<style scoped>\n",
       "    .dataframe tbody tr th:only-of-type {\n",
       "        vertical-align: middle;\n",
       "    }\n",
       "\n",
       "    .dataframe tbody tr th {\n",
       "        vertical-align: top;\n",
       "    }\n",
       "\n",
       "    .dataframe thead th {\n",
       "        text-align: right;\n",
       "    }\n",
       "</style>\n",
       "<table border=\"1\" class=\"dataframe\">\n",
       "  <thead>\n",
       "    <tr style=\"text-align: right;\">\n",
       "      <th></th>\n",
       "      <th>시군</th>\n",
       "      <th>기대도수_시군</th>\n",
       "    </tr>\n",
       "  </thead>\n",
       "  <tbody>\n",
       "    <tr>\n",
       "      <th>0</th>\n",
       "      <td>강진군</td>\n",
       "      <td>7</td>\n",
       "    </tr>\n",
       "    <tr>\n",
       "      <th>1</th>\n",
       "      <td>고흥군</td>\n",
       "      <td>6</td>\n",
       "    </tr>\n",
       "    <tr>\n",
       "      <th>2</th>\n",
       "      <td>곡성군</td>\n",
       "      <td>6</td>\n",
       "    </tr>\n",
       "    <tr>\n",
       "      <th>3</th>\n",
       "      <td>광양시</td>\n",
       "      <td>50</td>\n",
       "    </tr>\n",
       "    <tr>\n",
       "      <th>4</th>\n",
       "      <td>구례군</td>\n",
       "      <td>8</td>\n",
       "    </tr>\n",
       "  </tbody>\n",
       "</table>\n",
       "</div>"
      ]
     },
     "metadata": {},
     "execution_count": 7
    }
   ],
   "metadata": {}
  },
  {
   "cell_type": "code",
   "execution_count": 8,
   "source": [
    "# 지정구분별 개수(도수)\r\n",
    "gubun_df = pd.DataFrame(data=rawData.groupby(['지정구분'])['지정구분'].count())\r\n",
    "gubun_df.columns=['기대도수_지정구분']\r\n",
    "gubun_df.reset_index(inplace=True)\r\n",
    "gubun_df.head()"
   ],
   "outputs": [
    {
     "output_type": "execute_result",
     "data": {
      "text/plain": [
       "   지정구분  기대도수_지정구분\n",
       "0  기술유망        252\n",
       "1  수출유망         61\n",
       "2  지역특화         73"
      ],
      "text/html": [
       "<div>\n",
       "<style scoped>\n",
       "    .dataframe tbody tr th:only-of-type {\n",
       "        vertical-align: middle;\n",
       "    }\n",
       "\n",
       "    .dataframe tbody tr th {\n",
       "        vertical-align: top;\n",
       "    }\n",
       "\n",
       "    .dataframe thead th {\n",
       "        text-align: right;\n",
       "    }\n",
       "</style>\n",
       "<table border=\"1\" class=\"dataframe\">\n",
       "  <thead>\n",
       "    <tr style=\"text-align: right;\">\n",
       "      <th></th>\n",
       "      <th>지정구분</th>\n",
       "      <th>기대도수_지정구분</th>\n",
       "    </tr>\n",
       "  </thead>\n",
       "  <tbody>\n",
       "    <tr>\n",
       "      <th>0</th>\n",
       "      <td>기술유망</td>\n",
       "      <td>252</td>\n",
       "    </tr>\n",
       "    <tr>\n",
       "      <th>1</th>\n",
       "      <td>수출유망</td>\n",
       "      <td>61</td>\n",
       "    </tr>\n",
       "    <tr>\n",
       "      <th>2</th>\n",
       "      <td>지역특화</td>\n",
       "      <td>73</td>\n",
       "    </tr>\n",
       "  </tbody>\n",
       "</table>\n",
       "</div>"
      ]
     },
     "metadata": {},
     "execution_count": 8
    }
   ],
   "metadata": {}
  },
  {
   "cell_type": "code",
   "execution_count": 9,
   "source": [
    "# 원본 데이터프레임의 전체 행의 개수\r\n",
    "tot_rows = rawData.shape[0]\r\n",
    "tot_rows"
   ],
   "outputs": [
    {
     "output_type": "execute_result",
     "data": {
      "text/plain": [
       "386"
      ]
     },
     "metadata": {},
     "execution_count": 9
    }
   ],
   "metadata": {}
  },
  {
   "cell_type": "code",
   "execution_count": null,
   "source": [
    "import itertools as its\r\n",
    "\r\n",
    "# 두 데이터프레임 간 cartesian product(곱집합) 구하기 (리스트로 변환 후 곱집합 연산 수행)\r\n",
    "list_pro = list(its.product(sigun_df.values.tolist(),gubun_df.values.tolist()))\r\n",
    "list_pro"
   ],
   "outputs": [],
   "metadata": {}
  },
  {
   "cell_type": "code",
   "execution_count": null,
   "source": [
    "# 곱집합 결과 리스트를 저장하는 변수\r\n",
    "list_flat = []\r\n",
    "\r\n",
    "# list_pro의 각 행에 대해서 2차원구조를 1차원으로 flatting\r\n",
    "for list_ele in list_pro :\r\n",
    "    list_flat.append(np.array(list_ele).flatten().tolist())\r\n",
    "list_flat    "
   ],
   "outputs": [],
   "metadata": {}
  },
  {
   "cell_type": "code",
   "execution_count": null,
   "source": [
    "# 기대도수를 저장하는 리스트 변수\r\n",
    "exp_list = []\r\n",
    "\r\n",
    "# list_flat 각 행에 대해서 기대도수를 구함    \r\n",
    "for list_ele in list_flat :\r\n",
    "    exp_list.append(float(list_ele[1])*float(list_ele[3])/tot_rows)\r\n",
    "exp_list    "
   ],
   "outputs": [],
   "metadata": {}
  },
  {
   "cell_type": "code",
   "execution_count": 13,
   "source": [
    "# 기대도수 구하기\r\n",
    "exp_df = pd.DataFrame(data={'시군':np.array(list_flat).T[0],\r\n",
    "                           '지정구분':np.array(list_flat).T[2],\r\n",
    "                           '기대도수':exp_list})  \r\n",
    "exp_df.head()"
   ],
   "outputs": [
    {
     "output_type": "execute_result",
     "data": {
      "text/plain": [
       "    시군  지정구분      기대도수\n",
       "0  강진군  기술유망  4.569948\n",
       "1  강진군  수출유망  1.106218\n",
       "2  강진군  지역특화  1.323834\n",
       "3  고흥군  기술유망  3.917098\n",
       "4  고흥군  수출유망  0.948187"
      ],
      "text/html": [
       "<div>\n",
       "<style scoped>\n",
       "    .dataframe tbody tr th:only-of-type {\n",
       "        vertical-align: middle;\n",
       "    }\n",
       "\n",
       "    .dataframe tbody tr th {\n",
       "        vertical-align: top;\n",
       "    }\n",
       "\n",
       "    .dataframe thead th {\n",
       "        text-align: right;\n",
       "    }\n",
       "</style>\n",
       "<table border=\"1\" class=\"dataframe\">\n",
       "  <thead>\n",
       "    <tr style=\"text-align: right;\">\n",
       "      <th></th>\n",
       "      <th>시군</th>\n",
       "      <th>지정구분</th>\n",
       "      <th>기대도수</th>\n",
       "    </tr>\n",
       "  </thead>\n",
       "  <tbody>\n",
       "    <tr>\n",
       "      <th>0</th>\n",
       "      <td>강진군</td>\n",
       "      <td>기술유망</td>\n",
       "      <td>4.569948</td>\n",
       "    </tr>\n",
       "    <tr>\n",
       "      <th>1</th>\n",
       "      <td>강진군</td>\n",
       "      <td>수출유망</td>\n",
       "      <td>1.106218</td>\n",
       "    </tr>\n",
       "    <tr>\n",
       "      <th>2</th>\n",
       "      <td>강진군</td>\n",
       "      <td>지역특화</td>\n",
       "      <td>1.323834</td>\n",
       "    </tr>\n",
       "    <tr>\n",
       "      <th>3</th>\n",
       "      <td>고흥군</td>\n",
       "      <td>기술유망</td>\n",
       "      <td>3.917098</td>\n",
       "    </tr>\n",
       "    <tr>\n",
       "      <th>4</th>\n",
       "      <td>고흥군</td>\n",
       "      <td>수출유망</td>\n",
       "      <td>0.948187</td>\n",
       "    </tr>\n",
       "  </tbody>\n",
       "</table>\n",
       "</div>"
      ]
     },
     "metadata": {},
     "execution_count": 13
    }
   ],
   "metadata": {}
  },
  {
   "cell_type": "code",
   "execution_count": 14,
   "source": [
    "obs_df.shape[0]"
   ],
   "outputs": [
    {
     "output_type": "execute_result",
     "data": {
      "text/plain": [
       "60"
      ]
     },
     "metadata": {},
     "execution_count": 14
    }
   ],
   "metadata": {}
  },
  {
   "cell_type": "code",
   "execution_count": 15,
   "source": [
    "exp_df.shape[0]"
   ],
   "outputs": [
    {
     "output_type": "execute_result",
     "data": {
      "text/plain": [
       "66"
      ]
     },
     "metadata": {},
     "execution_count": 15
    }
   ],
   "metadata": {}
  },
  {
   "cell_type": "code",
   "execution_count": 17,
   "source": [
    "# 관측도수데이터프레임(obs_df)와 기대도수데이터프레임(exp_df)를 merge(조인)하여 1차원 분할표를 구하기\r\n",
    "count_df = pd.merge(obs_df, exp_df, on=['시군','지정구분'],how='right')\r\n",
    "count_df.head(10)"
   ],
   "outputs": [
    {
     "output_type": "execute_result",
     "data": {
      "text/plain": [
       "    시군  지정구분  관측도수       기대도수\n",
       "0  강진군  기술유망   2.0   4.569948\n",
       "1  강진군  수출유망   1.0   1.106218\n",
       "2  강진군  지역특화   4.0   1.323834\n",
       "3  고흥군  기술유망   5.0   3.917098\n",
       "4  고흥군  수출유망   1.0   0.948187\n",
       "5  고흥군  지역특화   NaN   1.134715\n",
       "6  곡성군  기술유망   5.0   3.917098\n",
       "7  곡성군  수출유망   1.0   0.948187\n",
       "8  곡성군  지역특화   NaN   1.134715\n",
       "9  광양시  기술유망  37.0  32.642487"
      ],
      "text/html": [
       "<div>\n",
       "<style scoped>\n",
       "    .dataframe tbody tr th:only-of-type {\n",
       "        vertical-align: middle;\n",
       "    }\n",
       "\n",
       "    .dataframe tbody tr th {\n",
       "        vertical-align: top;\n",
       "    }\n",
       "\n",
       "    .dataframe thead th {\n",
       "        text-align: right;\n",
       "    }\n",
       "</style>\n",
       "<table border=\"1\" class=\"dataframe\">\n",
       "  <thead>\n",
       "    <tr style=\"text-align: right;\">\n",
       "      <th></th>\n",
       "      <th>시군</th>\n",
       "      <th>지정구분</th>\n",
       "      <th>관측도수</th>\n",
       "      <th>기대도수</th>\n",
       "    </tr>\n",
       "  </thead>\n",
       "  <tbody>\n",
       "    <tr>\n",
       "      <th>0</th>\n",
       "      <td>강진군</td>\n",
       "      <td>기술유망</td>\n",
       "      <td>2.0</td>\n",
       "      <td>4.569948</td>\n",
       "    </tr>\n",
       "    <tr>\n",
       "      <th>1</th>\n",
       "      <td>강진군</td>\n",
       "      <td>수출유망</td>\n",
       "      <td>1.0</td>\n",
       "      <td>1.106218</td>\n",
       "    </tr>\n",
       "    <tr>\n",
       "      <th>2</th>\n",
       "      <td>강진군</td>\n",
       "      <td>지역특화</td>\n",
       "      <td>4.0</td>\n",
       "      <td>1.323834</td>\n",
       "    </tr>\n",
       "    <tr>\n",
       "      <th>3</th>\n",
       "      <td>고흥군</td>\n",
       "      <td>기술유망</td>\n",
       "      <td>5.0</td>\n",
       "      <td>3.917098</td>\n",
       "    </tr>\n",
       "    <tr>\n",
       "      <th>4</th>\n",
       "      <td>고흥군</td>\n",
       "      <td>수출유망</td>\n",
       "      <td>1.0</td>\n",
       "      <td>0.948187</td>\n",
       "    </tr>\n",
       "    <tr>\n",
       "      <th>5</th>\n",
       "      <td>고흥군</td>\n",
       "      <td>지역특화</td>\n",
       "      <td>NaN</td>\n",
       "      <td>1.134715</td>\n",
       "    </tr>\n",
       "    <tr>\n",
       "      <th>6</th>\n",
       "      <td>곡성군</td>\n",
       "      <td>기술유망</td>\n",
       "      <td>5.0</td>\n",
       "      <td>3.917098</td>\n",
       "    </tr>\n",
       "    <tr>\n",
       "      <th>7</th>\n",
       "      <td>곡성군</td>\n",
       "      <td>수출유망</td>\n",
       "      <td>1.0</td>\n",
       "      <td>0.948187</td>\n",
       "    </tr>\n",
       "    <tr>\n",
       "      <th>8</th>\n",
       "      <td>곡성군</td>\n",
       "      <td>지역특화</td>\n",
       "      <td>NaN</td>\n",
       "      <td>1.134715</td>\n",
       "    </tr>\n",
       "    <tr>\n",
       "      <th>9</th>\n",
       "      <td>광양시</td>\n",
       "      <td>기술유망</td>\n",
       "      <td>37.0</td>\n",
       "      <td>32.642487</td>\n",
       "    </tr>\n",
       "  </tbody>\n",
       "</table>\n",
       "</div>"
      ]
     },
     "metadata": {},
     "execution_count": 17
    }
   ],
   "metadata": {}
  },
  {
   "cell_type": "code",
   "execution_count": 20,
   "source": [
    "# 외부조인에 의해 발생한 결측값을 0으로 채우기\r\n",
    "count_df.fillna(0,inplace=True)"
   ],
   "outputs": [],
   "metadata": {}
  },
  {
   "cell_type": "code",
   "execution_count": 21,
   "source": [
    "# 관측도수/기대도수 분할표 출력\r\n",
    "count_df.head(10)"
   ],
   "outputs": [
    {
     "output_type": "execute_result",
     "data": {
      "text/plain": [
       "    시군  지정구분  관측도수       기대도수\n",
       "0  강진군  기술유망   2.0   4.569948\n",
       "1  강진군  수출유망   1.0   1.106218\n",
       "2  강진군  지역특화   4.0   1.323834\n",
       "3  고흥군  기술유망   5.0   3.917098\n",
       "4  고흥군  수출유망   1.0   0.948187\n",
       "5  고흥군  지역특화   0.0   1.134715\n",
       "6  곡성군  기술유망   5.0   3.917098\n",
       "7  곡성군  수출유망   1.0   0.948187\n",
       "8  곡성군  지역특화   0.0   1.134715\n",
       "9  광양시  기술유망  37.0  32.642487"
      ],
      "text/html": [
       "<div>\n",
       "<style scoped>\n",
       "    .dataframe tbody tr th:only-of-type {\n",
       "        vertical-align: middle;\n",
       "    }\n",
       "\n",
       "    .dataframe tbody tr th {\n",
       "        vertical-align: top;\n",
       "    }\n",
       "\n",
       "    .dataframe thead th {\n",
       "        text-align: right;\n",
       "    }\n",
       "</style>\n",
       "<table border=\"1\" class=\"dataframe\">\n",
       "  <thead>\n",
       "    <tr style=\"text-align: right;\">\n",
       "      <th></th>\n",
       "      <th>시군</th>\n",
       "      <th>지정구분</th>\n",
       "      <th>관측도수</th>\n",
       "      <th>기대도수</th>\n",
       "    </tr>\n",
       "  </thead>\n",
       "  <tbody>\n",
       "    <tr>\n",
       "      <th>0</th>\n",
       "      <td>강진군</td>\n",
       "      <td>기술유망</td>\n",
       "      <td>2.0</td>\n",
       "      <td>4.569948</td>\n",
       "    </tr>\n",
       "    <tr>\n",
       "      <th>1</th>\n",
       "      <td>강진군</td>\n",
       "      <td>수출유망</td>\n",
       "      <td>1.0</td>\n",
       "      <td>1.106218</td>\n",
       "    </tr>\n",
       "    <tr>\n",
       "      <th>2</th>\n",
       "      <td>강진군</td>\n",
       "      <td>지역특화</td>\n",
       "      <td>4.0</td>\n",
       "      <td>1.323834</td>\n",
       "    </tr>\n",
       "    <tr>\n",
       "      <th>3</th>\n",
       "      <td>고흥군</td>\n",
       "      <td>기술유망</td>\n",
       "      <td>5.0</td>\n",
       "      <td>3.917098</td>\n",
       "    </tr>\n",
       "    <tr>\n",
       "      <th>4</th>\n",
       "      <td>고흥군</td>\n",
       "      <td>수출유망</td>\n",
       "      <td>1.0</td>\n",
       "      <td>0.948187</td>\n",
       "    </tr>\n",
       "    <tr>\n",
       "      <th>5</th>\n",
       "      <td>고흥군</td>\n",
       "      <td>지역특화</td>\n",
       "      <td>0.0</td>\n",
       "      <td>1.134715</td>\n",
       "    </tr>\n",
       "    <tr>\n",
       "      <th>6</th>\n",
       "      <td>곡성군</td>\n",
       "      <td>기술유망</td>\n",
       "      <td>5.0</td>\n",
       "      <td>3.917098</td>\n",
       "    </tr>\n",
       "    <tr>\n",
       "      <th>7</th>\n",
       "      <td>곡성군</td>\n",
       "      <td>수출유망</td>\n",
       "      <td>1.0</td>\n",
       "      <td>0.948187</td>\n",
       "    </tr>\n",
       "    <tr>\n",
       "      <th>8</th>\n",
       "      <td>곡성군</td>\n",
       "      <td>지역특화</td>\n",
       "      <td>0.0</td>\n",
       "      <td>1.134715</td>\n",
       "    </tr>\n",
       "    <tr>\n",
       "      <th>9</th>\n",
       "      <td>광양시</td>\n",
       "      <td>기술유망</td>\n",
       "      <td>37.0</td>\n",
       "      <td>32.642487</td>\n",
       "    </tr>\n",
       "  </tbody>\n",
       "</table>\n",
       "</div>"
      ]
     },
     "metadata": {},
     "execution_count": 21
    }
   ],
   "metadata": {}
  },
  {
   "cell_type": "code",
   "execution_count": 22,
   "source": [
    "# 2개 속성에 대한 자유도(degree of freedom) 갭 구하기\r\n",
    "# A 속성에 대한 cardinality = a, B 속성에 대한 cardinality = b라 가정\r\n",
    "# cardinality : 서로 다른 속성값의 개수\r\n",
    "\r\n",
    "# 분할표 전체 행 갯수(a*b) 구하기\r\n",
    "tot_rows = count_df.shape[0]"
   ],
   "outputs": [],
   "metadata": {}
  },
  {
   "cell_type": "markdown",
   "source": [
    "### ‘시군’ 속성의 카디널러티(a) = 22\n",
    "### ‘지정구분’ 속성의 카디널러티(b) = 3\n",
    "### 그래서, (시군+지정구분) 속성조합의 카디널러티(a\\*b) = 22 * 3 = 66"
   ],
   "metadata": {}
  },
  {
   "cell_type": "code",
   "execution_count": 23,
   "source": [
    "tot_rows  # 변수확인"
   ],
   "outputs": [
    {
     "output_type": "execute_result",
     "data": {
      "text/plain": [
       "66"
      ]
     },
     "metadata": {},
     "execution_count": 23
    }
   ],
   "metadata": {}
  },
  {
   "cell_type": "code",
   "execution_count": 24,
   "source": [
    "# '시군' 속성의 cardinality 구하기\r\n",
    "card_sigun = len(count_df['시군'].unique())\r\n",
    "\r\n",
    "# '지정구분' 속성의 cardinality 구하기\r\n",
    "card_gubun = len(count_df['지정구분'].unique())"
   ],
   "outputs": [],
   "metadata": {}
  },
  {
   "cell_type": "code",
   "execution_count": 25,
   "source": [
    "# cardinality 갭 [(a*b-1) - (a-1)*(b-1)] 구하기\r\n",
    "# v_ddof = (tot_rows - 1) - (card_sigun-1)*(card_gubun-1)\r\n",
    "v_ddof = (tot_rows - 1) - (card_sigun-1)*(card_gubun-1)"
   ],
   "outputs": [],
   "metadata": {}
  },
  {
   "cell_type": "markdown",
   "source": [
    "### 속성조합의 자유도(degree of freedom) = (66-1) = 65\n",
    "### 실제 자유도는 (22-1) * (3-1) = 42\n",
    "### 위 두 값의 차이 : 23 -> chisquare() 함수의 세번째 패러미터로 사용"
   ],
   "metadata": {}
  },
  {
   "cell_type": "code",
   "execution_count": 26,
   "source": [
    "v_ddof  # 변수확인"
   ],
   "outputs": [
    {
     "output_type": "execute_result",
     "data": {
      "text/plain": [
       "23"
      ]
     },
     "metadata": {},
     "execution_count": 26
    }
   ],
   "metadata": {}
  },
  {
   "cell_type": "code",
   "execution_count": 27,
   "source": [
    "obs_array = count_df['관측도수'] # obs_array : 관측도수를 저장하는 1차원 배열"
   ],
   "outputs": [],
   "metadata": {}
  },
  {
   "cell_type": "markdown",
   "source": [
    "### obs_array : chisquare() 함수의 첫번째 패러미터로 사용"
   ],
   "metadata": {}
  },
  {
   "cell_type": "code",
   "execution_count": 28,
   "source": [
    "obs_array  # 변수확인"
   ],
   "outputs": [
    {
     "output_type": "execute_result",
     "data": {
      "text/plain": [
       "0      2.0\n",
       "1      1.0\n",
       "2      4.0\n",
       "3      5.0\n",
       "4      1.0\n",
       "      ... \n",
       "61     1.0\n",
       "62     2.0\n",
       "63    23.0\n",
       "64     3.0\n",
       "65     5.0\n",
       "Name: 관측도수, Length: 66, dtype: float64"
      ]
     },
     "metadata": {},
     "execution_count": 28
    }
   ],
   "metadata": {}
  },
  {
   "cell_type": "code",
   "execution_count": 29,
   "source": [
    "exp_array = count_df['기대도수'] # exp_array : 기대도수를 저장하는 1차원 배열"
   ],
   "outputs": [],
   "metadata": {}
  },
  {
   "cell_type": "markdown",
   "source": [
    "### exp_array : chisquare() 함수의 두번째 패러미터로 사용"
   ],
   "metadata": {}
  },
  {
   "cell_type": "code",
   "execution_count": 30,
   "source": [
    "exp_array  # 변수확인"
   ],
   "outputs": [
    {
     "output_type": "execute_result",
     "data": {
      "text/plain": [
       "0      4.569948\n",
       "1      1.106218\n",
       "2      1.323834\n",
       "3      3.917098\n",
       "4      0.948187\n",
       "        ...    \n",
       "61     1.106218\n",
       "62     1.323834\n",
       "63    20.238342\n",
       "64     4.898964\n",
       "65     5.862694\n",
       "Name: 기대도수, Length: 66, dtype: float64"
      ]
     },
     "metadata": {},
     "execution_count": 30
    }
   ],
   "metadata": {}
  },
  {
   "cell_type": "code",
   "execution_count": 31,
   "source": [
    "# 카이제곱검정을 위한 scipy 패키지 중 stats 모듈 임포트\r\n",
    "from scipy import stats"
   ],
   "outputs": [],
   "metadata": {}
  },
  {
   "cell_type": "code",
   "execution_count": 32,
   "source": [
    "# stats.chisquare() : 카이제곱검정 함수\r\n",
    "chis = stats.chisquare(obs_array, exp_array, ddof=v_ddof)"
   ],
   "outputs": [],
   "metadata": {}
  },
  {
   "cell_type": "markdown",
   "source": [
    "### chisquare() 함수 : 카이제곱(χ2) 통계량을 산출하는 함수\n",
    "#### 첫번째 패러미터 : 1차원 배열 형태의 관측도수 리스트\n",
    "#### 두번째 패러미터 : 1차원 배열 형태의 기대도수 리스트\n",
    "#### 세번째 패러미터 : 자유도 차이 [(a\\*b-1) - (a-1)\\*(b-1)]"
   ],
   "metadata": {}
  },
  {
   "cell_type": "code",
   "execution_count": 33,
   "source": [
    "# stats.chisquare() 수행 후의 카이제곱 통계량과 p-value\r\n",
    "print(\"statistic = %.3f, p-value = %.5f\" % (chis))"
   ],
   "outputs": [
    {
     "output_type": "stream",
     "name": "stdout",
     "text": [
      "statistic = 54.544, p-value = 0.09287\n"
     ]
    }
   ],
   "metadata": {}
  },
  {
   "cell_type": "markdown",
   "source": [
    "### 카이제곱 통계량(statistic) : 54.544\n",
    "### 유의확률(p-value) : 0.09287\n",
    "### 유의확률이 유의수준 0.05로 설정한다면 귀무가설(두 속성은 연관성이 없다)이 채택됨. 결론적으로, 시군과 지정구분 사이에는 큰 연관성은 없는 것으로 판단할 수 있음."
   ],
   "metadata": {}
  },
  {
   "cell_type": "code",
   "execution_count": null,
   "source": [],
   "outputs": [],
   "metadata": {}
  }
 ],
 "metadata": {
  "kernelspec": {
   "display_name": "Python 3",
   "language": "python",
   "name": "python3"
  },
  "language_info": {
   "codemirror_mode": {
    "name": "ipython",
    "version": 3
   },
   "file_extension": ".py",
   "mimetype": "text/x-python",
   "name": "python",
   "nbconvert_exporter": "python",
   "pygments_lexer": "ipython3",
   "version": "3.6.10"
  }
 },
 "nbformat": 4,
 "nbformat_minor": 2
}