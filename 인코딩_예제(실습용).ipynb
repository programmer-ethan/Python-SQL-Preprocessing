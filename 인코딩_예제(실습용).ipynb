{
 "cells": [
  {
   "cell_type": "code",
   "execution_count": 23,
   "source": [
    "# Encoding 모형을 Label Encoding으로 설정\r\n",
    "encoder = \r\n",
    "\r\n",
    "# 학습 및 변환\r\n",
    "labels = encoder.\r\n",
    "\r\n",
    "print(labels)"
   ],
   "outputs": [
    {
     "output_type": "stream",
     "name": "stdout",
     "text": [
      "[0 1 4 5 3 2 2]\n"
     ]
    }
   ],
   "metadata": {
    "collapsed": true
   }
  },
  {
   "cell_type": "code",
   "execution_count": null,
   "source": [
    "# LabelEncoder import\r\n",
    "from sklearn.preprocessing import LabelEncoder\r\n",
    "import numpy as np\r\n",
    "\r\n",
    "items=['TV', '냉장고', '전자레인지', '컴퓨터', '선풍기', '믹서', '믹서']\r\n"
   ],
   "outputs": [],
   "metadata": {}
  },
  {
   "cell_type": "code",
   "execution_count": 25,
   "source": [
    "# 변환된 숫자(코드)에 대응되는 범주형 변수값 출력하기\r\n",
    "print(encoder.)"
   ],
   "outputs": [
    {
     "output_type": "stream",
     "name": "stdout",
     "text": [
      "['TV' '냉장고' '믹서' '선풍기' '전자레인지' '컴퓨터']\n"
     ]
    }
   ],
   "metadata": {
    "collapsed": true
   }
  },
  {
   "cell_type": "code",
   "execution_count": 26,
   "source": [
    "# 숫자(코드)를 범주형 변수로 역변환\r\n",
    "print(encoder.)"
   ],
   "outputs": [
    {
     "output_type": "stream",
     "name": "stdout",
     "text": [
      "['TV' '냉장고' '전자레인지' '컴퓨터' '선풍기' '믹서' '믹서']\n"
     ]
    }
   ],
   "metadata": {
    "collapsed": true
   }
  },
  {
   "cell_type": "code",
   "execution_count": 27,
   "source": [
    "# OneHotEncoder import\r\n",
    "from sklearn.preprocessing import OneHotEncoder\r\n",
    "\r\n",
    "# One-hot encoding을 준비하기 위해 열이 하나인 2차원 배열로 구조 변환\r\n",
    "labels = labels.\r\n",
    "labels"
   ],
   "outputs": [
    {
     "output_type": "execute_result",
     "data": {
      "text/plain": [
       "array([[0],\n",
       "       [1],\n",
       "       [4],\n",
       "       [5],\n",
       "       [3],\n",
       "       [2],\n",
       "       [2]], dtype=int64)"
      ]
     },
     "metadata": {},
     "execution_count": 27
    }
   ],
   "metadata": {
    "collapsed": true
   }
  },
  {
   "cell_type": "code",
   "execution_count": 28,
   "source": [
    "# Encoding 모형을 One-hot encoding으로 설정\n",
    "oh_encoder = \n",
    "oh_labels = oh_encoder.\n",
    "print(oh_labels)"
   ],
   "outputs": [
    {
     "output_type": "stream",
     "name": "stdout",
     "text": [
      "  (0, 0)\t1.0\n",
      "  (1, 1)\t1.0\n",
      "  (2, 4)\t1.0\n",
      "  (3, 5)\t1.0\n",
      "  (4, 3)\t1.0\n",
      "  (5, 2)\t1.0\n",
      "  (6, 2)\t1.0\n"
     ]
    }
   ],
   "metadata": {
    "collapsed": true
   }
  },
  {
   "cell_type": "code",
   "execution_count": 29,
   "source": [
    "# Encoding 결과를 2차원 배열로 변환\n",
    "print(oh_labels.)"
   ],
   "outputs": [
    {
     "output_type": "stream",
     "name": "stdout",
     "text": [
      "[[1. 0. 0. 0. 0. 0.]\n",
      " [0. 1. 0. 0. 0. 0.]\n",
      " [0. 0. 0. 0. 1. 0.]\n",
      " [0. 0. 0. 0. 0. 1.]\n",
      " [0. 0. 0. 1. 0. 0.]\n",
      " [0. 0. 1. 0. 0. 0.]\n",
      " [0. 0. 1. 0. 0. 0.]]\n"
     ]
    }
   ],
   "metadata": {
    "collapsed": true
   }
  }
 ],
 "metadata": {
  "kernelspec": {
   "display_name": "Python 3",
   "language": "python",
   "name": "python3"
  },
  "language_info": {
   "codemirror_mode": {
    "name": "ipython",
    "version": 3
   },
   "file_extension": ".py",
   "mimetype": "text/x-python",
   "name": "python",
   "nbconvert_exporter": "python",
   "pygments_lexer": "ipython3",
   "version": "3.8.5"
  }
 },
 "nbformat": 4,
 "nbformat_minor": 4
}