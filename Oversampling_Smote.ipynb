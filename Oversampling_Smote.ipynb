{
 "cells": [
  {
   "cell_type": "code",
   "execution_count": 81,
   "metadata": {},
   "outputs": [
    {
     "name": "stdout",
     "output_type": "stream",
     "text": [
      "0    99.827251\n",
      "1     0.172749\n",
      "Name: Class, dtype: float64\n"
     ]
    },
    {
     "data": {
      "image/png": "[encoded data removed]",
      "text/plain": [
       "<Figure size 432x288 with 1 Axes>"
      ]
     },
     "metadata": {
      "needs_background": "light"
     },
     "output_type": "display_data"
    }
   ],
   "source": [
    "import pandas as pd \n",
    "import warnings\n",
    "\n",
    "warnings.filterwarnings(action='ignore')\n",
    "\n",
    "# dataset : Kaggle의 Credit Card Fraud Detection의 creditcard.csv \n",
    "df = pd.read_csv('datasets/creditcard.csv')\n",
    "\n",
    "# Class 별 데이터분포\n",
    "df.Class.value_counts(normalize=True).plot(kind='bar')\n",
    "print(df.Class.value_counts(normalize=True)*100)"
   ]
  },
  {
   "cell_type": "code",
   "execution_count": 82,
   "metadata": {},
   "outputs": [],
   "source": [
    "from sklearn.model_selection import train_test_split\n",
    "from sklearn.metrics import accuracy_score, precision_score, recall_score, f1_score\n",
    "\n",
    "# Original dataset으로 독립변수(X)와 종속변수(y) 지정\n",
    "X = df.iloc[:,:-1]\n",
    "y = df.iloc[:,-1]\n",
    "\n",
    "# Original dataset에 대한 training set과 test set 구분 (3:1)\n",
    "X_train, X_test, y_train, y_test = train_test_split(X,y,test_size=0.25,random_state=10)"
   ]
  },
  {
   "cell_type": "code",
   "execution_count": 83,
   "metadata": {},
   "outputs": [
    {
     "name": "stdout",
     "output_type": "stream",
     "text": [
      "SMOTE 적용 전 학습용 피처/레이블 데이터 세트:  (284807, 30) (284807,)\n",
      "SMOTE 적용 후 학습용 피처/레이블 데이터 세트:  (568630, 30) (568630,)\n",
      "SMOTE 적용 후 레이블 값 분포: \n",
      " 1    284315\n",
      "0    284315\n",
      "Name: Class, dtype: int64\n"
     ]
    }
   ],
   "source": [
    "# imblearn(imbalanced data 문제해결을 위한 패키지) import\n",
    "from imblearn.over_sampling import SMOTE\n",
    "\n",
    "# SMOTE 모델 설정\n",
    "smote = SMOTE(random_state=0)\n",
    "\n",
    "# SMOTE 기법에 의한 Oversampling 진행\n",
    "X_over,y_over = smote.fit_sample(X,y)\n",
    "\n",
    "print('SMOTE 적용 전 학습용 피처/레이블 데이터 세트: ', X.shape, y.shape)\n",
    "print('SMOTE 적용 후 학습용 피처/레이블 데이터 세트: ', X_over.shape, y_over.shape)\n",
    "print('SMOTE 적용 후 레이블 값 분포: \\n', pd.Series(y_over).value_counts())\n",
    "\n",
    "# Oversampling dataset에 대한 training set과 test set 구분 (3:1)\n",
    "X_train_over, X_test_over, y_train_over, y_test_over = train_test_split(X_over, y_over, test_size=0.25, random_state=10)"
   ]
  },
  {
   "cell_type": "code",
   "execution_count": 84,
   "metadata": {},
   "outputs": [],
   "source": [
    "# 모델링 및 학습/검증\n",
    "def f_model_fit(cls, model,x_train,x_test,y_train,y_test):\n",
    "    model.fit(x_train,y_train)\n",
    "    pred = model.predict(x_test)\n",
    "    f_metrics(cls, y_test,pred)\n",
    "    \n",
    "# 분류 성능평가 지표\n",
    "def f_metrics(cls, y_test,pred):\n",
    "    accuracy = accuracy_score(y_test,pred)\n",
    "    precision = precision_score(y_test,pred)\n",
    "    recall = recall_score(y_test,pred)\n",
    "    f1 = f1_score(y_test,pred)\n",
    "    print(cls + '정확도 : {0:.3f}, 정밀도 : {1:.3f}, 재현율 : {2:.3f}, f1-score : {3:.3f}'.format(accuracy, precision, recall, f1))"
   ]
  },
  {
   "cell_type": "code",
   "execution_count": 85,
   "metadata": {},
   "outputs": [
    {
     "name": "stdout",
     "output_type": "stream",
     "text": [
      "Logistic Regression(SMOTE적용 전) -> 정확도 : 0.999, 정밀도 : 0.730, 재현율 : 0.736, f1-score : 0.733\n",
      "Logistic Regression(SMOTE적용 후) -> 정확도 : 0.974, 정밀도 : 0.983, 재현율 : 0.964, f1-score : 0.973\n"
     ]
    }
   ],
   "source": [
    "# 분석기법 : Logistic Regression\n",
    "from sklearn.linear_model import LogisticRegression\n",
    "\n",
    "lr = LogisticRegression()\n",
    "f_model_fit('Logistic Regression(SMOTE적용 전) -> ', lr, X_train, X_test, y_train, y_test)\n",
    "f_model_fit('Logistic Regression(SMOTE적용 후) -> ', lr, X_train_over, X_test_over, y_train_over, y_test_over)"
   ]
  },
  {
   "cell_type": "code",
   "execution_count": 86,
   "metadata": {},
   "outputs": [
    {
     "name": "stdout",
     "output_type": "stream",
     "text": [
      "Decision_tree(SMOTE적용 전) -> 정확도 : 0.999, 정밀도 : 0.896, 재현율 : 0.785, f1-score : 0.837\n",
      "Decision_tree(SMOTE적용 후) -> 정확도 : 0.964, 정밀도 : 0.982, 재현율 : 0.946, f1-score : 0.963\n"
     ]
    }
   ],
   "source": [
    "# 분석기법 : Decision_tree Classification\n",
    "from sklearn.tree import DecisionTreeClassifier  # 의사결정트리 기법에 관련된 모듈\n",
    "\n",
    "decision_tree = DecisionTreeClassifier(criterion='entropy', max_depth=4, random_state=0)\n",
    "f_model_fit('Decision_tree(SMOTE적용 전) -> ', decision_tree, X_train, X_test, y_train, y_test)\n",
    "f_model_fit('Decision_tree(SMOTE적용 후) -> ', decision_tree, X_train_over, X_test_over, y_train_over, y_test_over)"
   ]
  },
  {
   "cell_type": "code",
   "execution_count": 87,
   "metadata": {},
   "outputs": [
    {
     "name": "stdout",
     "output_type": "stream",
     "text": [
      "Random_forest(SMOTE적용 전) -> 정확도 : 1.000, 정밀도 : 0.960, 재현율 : 0.802, f1-score : 0.874\n",
      "Random_forest(SMOTE적용 후) -> 정확도 : 1.000, 정밀도 : 1.000, 재현율 : 1.000, f1-score : 1.000\n"
     ]
    }
   ],
   "source": [
    "# 분석기법 : Random_forest Classification\n",
    "from sklearn.ensemble import RandomForestClassifier  # 랜덤포리스트 기법에 관련된 모듈\n",
    "\n",
    "random_forest = RandomForestClassifier(n_estimators=20, random_state=0)\n",
    "f_model_fit('Random_forest(SMOTE적용 전) -> ', random_forest, X_train, X_test, y_train, y_test)\n",
    "f_model_fit('Random_forest(SMOTE적용 후) -> ', random_forest, X_train_over, X_test_over, y_train_over, y_test_over)"
   ]
  },
  {
   "cell_type": "code",
   "execution_count": 89,
   "metadata": {},
   "outputs": [
    {
     "name": "stdout",
     "output_type": "stream",
     "text": [
      "XGBoost(SMOTE적용 전) -> 정확도 : 1.000, 정밀도 : 0.962, 재현율 : 0.835, f1-score : 0.894\n",
      "XGBoost(SMOTE적용 후) -> 정확도 : 0.997, 정밀도 : 0.997, 재현율 : 0.997, f1-score : 0.997\n"
     ]
    }
   ],
   "source": [
    "# 분석기법 : Xgboost Classification\n",
    "import xgboost as xgb # xgboost 기법에 관련된 모듈\n",
    "\n",
    "gbm = xgb.XGBClassifier(max_depth=4, n_estimators=300, learning_rate=0.05, eval_metric='logloss')\n",
    "f_model_fit('XGBoost(SMOTE적용 전) -> ', gbm, X_train, X_test, y_train, y_test)\n",
    "f_model_fit('XGBoost(SMOTE적용 후) -> ', gbm, X_train_over, X_test_over, y_train_over, y_test_over)"
   ]
  },
  {
   "cell_type": "code",
   "execution_count": 90,
   "metadata": {},
   "outputs": [
    {
     "name": "stdout",
     "output_type": "stream",
     "text": [
      "Lightgbm(SMOTE적용 전) -> 정확도 : 1.000, 정밀도 : 0.952, 재현율 : 0.826, f1-score : 0.885\n",
      "Lightgbm(SMOTE적용 후) -> 정확도 : 1.000, 정밀도 : 1.000, 재현율 : 1.000, f1-score : 1.000\n"
     ]
    }
   ],
   "source": [
    "# 분석기법 : LightGBM Classification\n",
    "from lightgbm import LGBMClassifier\n",
    "lgb = LGBMClassifier(n_estimators=1000,num_leaves=64,n_jobs=-1,boost_from_average=False)\n",
    "f_model_fit('Lightgbm(SMOTE적용 전) -> ', lgb, X_train, X_test, y_train, y_test)\n",
    "f_model_fit('Lightgbm(SMOTE적용 후) -> ', lgb, X_train_over, X_test_over, y_train_over, y_test_over)"
   ]
  }
 ],
 "metadata": {
  "kernelspec": {
   "display_name": "Python 3",
   "language": "python",
   "name": "python3"
  },
  "language_info": {
   "codemirror_mode": {
    "name": "ipython",
    "version": 3
   },
   "file_extension": ".py",
   "mimetype": "text/x-python",
   "name": "python",
   "nbconvert_exporter": "python",
   "pygments_lexer": "ipython3",
   "version": "3.8.5"
  }
 },
 "nbformat": 4,
 "nbformat_minor": 4
}
