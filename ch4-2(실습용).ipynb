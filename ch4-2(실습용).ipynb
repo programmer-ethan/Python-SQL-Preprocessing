{
 "cells": [
  {
   "cell_type": "code",
   "execution_count": 1,
   "source": [
    "# ch4-2.py\r\n",
    "import pandas as pd\r\n",
    "import numpy as np\r\n",
    "\r\n",
    "# Scikit-Learn 패키지 : 머신 러닝 교육 및 실무를 위한 패키지로 샘플 데이터셋,\r\n",
    "# 다양한 기계학습 기법에 대한 함수 등을 포함하고 있음\r\n",
    "from sklearn import tree  # 의사결정트리 기법에 관련된 모듈\r\n",
    "from sklearn.model_selection import train_test_split  # 분석모형 선택에 관련된 모듈\r\n",
    "from sklearn.preprocessing import StandardScaler  # 데이터전처리에 관련된 모듈"
   ],
   "outputs": [],
   "metadata": {}
  },
  {
   "cell_type": "markdown",
   "source": [
    "### 본 예제의 목적은 품종 분류(classification)나 예측(prediction)이 아니라 품종에 영향을 미치는 속성의 부분집합 선택\n",
    "### 의사결정트리 :  분류 기법으로 기계학습의 일종\n",
    "### Scikit-Learn 패키지 : 기계학습 교육 및 실무를 위한 도구(함수) 제공\n",
    "### 본 예제에서는 이 패키지에서 제공한 의사결정트리 기법 관련 함수를 이용"
   ],
   "metadata": {}
  },
  {
   "cell_type": "code",
   "execution_count": 2,
   "source": [
    "# 데이터로드 (ch4-2(붓꽃데이터).csv : 데이터 원본 파일)\r\n",
    "# encoding : 윈도우즈 환경에서의 한글 처리\r\n",
    "# engine : python 3.6에서 한글이 포함된 파일이름 사용\r\n",
    "rawData = pd.read_csv('.jupyter/ch4-2(붓꽃데이터).csv', encoding='CP949', engine='python')"
   ],
   "outputs": [],
   "metadata": {}
  },
  {
   "cell_type": "markdown",
   "source": [
    "### sklearn 패키지는 기계학습에 사용되는 전형적인 데이터셋을 제공함. iris 데이터도 그 일종임.\n",
    "### iris 원시데이터는 datasets.load_iris()를 이용하여 읽어들일 수 있는데, 여기서는 예제데이터(csv)로 제공되는 파일로부터 읽는 코드를 사용함"
   ],
   "metadata": {}
  },
  {
   "cell_type": "code",
   "execution_count": 3,
   "source": [
    "rawData"
   ],
   "outputs": [
    {
     "output_type": "execute_result",
     "data": {
      "text/plain": [
       "      no  sepal_length  sepal_width  petal_length  petal_width      class\n",
       "0      1           5.1          3.5           1.4          0.2     setosa\n",
       "1      2           4.9          3.0           1.4          0.2     setosa\n",
       "2      3           4.7          3.2           1.3          0.2     setosa\n",
       "3      4           4.6          3.1           1.5          0.2     setosa\n",
       "4      5           5.0          3.6           1.4          0.2     setosa\n",
       "..   ...           ...          ...           ...          ...        ...\n",
       "145  146           6.7          3.0           5.2          2.3  virginica\n",
       "146  147           6.3          2.5           5.0          1.9  virginica\n",
       "147  148           6.5          3.0           5.2          2.0  virginica\n",
       "148  149           6.2          3.4           5.4          2.3  virginica\n",
       "149  150           5.9          3.0           5.1          1.8  virginica\n",
       "\n",
       "[150 rows x 6 columns]"
      ],
      "text/html": [
       "<div>\n",
       "<style scoped>\n",
       "    .dataframe tbody tr th:only-of-type {\n",
       "        vertical-align: middle;\n",
       "    }\n",
       "\n",
       "    .dataframe tbody tr th {\n",
       "        vertical-align: top;\n",
       "    }\n",
       "\n",
       "    .dataframe thead th {\n",
       "        text-align: right;\n",
       "    }\n",
       "</style>\n",
       "<table border=\"1\" class=\"dataframe\">\n",
       "  <thead>\n",
       "    <tr style=\"text-align: right;\">\n",
       "      <th></th>\n",
       "      <th>no</th>\n",
       "      <th>sepal_length</th>\n",
       "      <th>sepal_width</th>\n",
       "      <th>petal_length</th>\n",
       "      <th>petal_width</th>\n",
       "      <th>class</th>\n",
       "    </tr>\n",
       "  </thead>\n",
       "  <tbody>\n",
       "    <tr>\n",
       "      <th>0</th>\n",
       "      <td>1</td>\n",
       "      <td>5.1</td>\n",
       "      <td>3.5</td>\n",
       "      <td>1.4</td>\n",
       "      <td>0.2</td>\n",
       "      <td>setosa</td>\n",
       "    </tr>\n",
       "    <tr>\n",
       "      <th>1</th>\n",
       "      <td>2</td>\n",
       "      <td>4.9</td>\n",
       "      <td>3.0</td>\n",
       "      <td>1.4</td>\n",
       "      <td>0.2</td>\n",
       "      <td>setosa</td>\n",
       "    </tr>\n",
       "    <tr>\n",
       "      <th>2</th>\n",
       "      <td>3</td>\n",
       "      <td>4.7</td>\n",
       "      <td>3.2</td>\n",
       "      <td>1.3</td>\n",
       "      <td>0.2</td>\n",
       "      <td>setosa</td>\n",
       "    </tr>\n",
       "    <tr>\n",
       "      <th>3</th>\n",
       "      <td>4</td>\n",
       "      <td>4.6</td>\n",
       "      <td>3.1</td>\n",
       "      <td>1.5</td>\n",
       "      <td>0.2</td>\n",
       "      <td>setosa</td>\n",
       "    </tr>\n",
       "    <tr>\n",
       "      <th>4</th>\n",
       "      <td>5</td>\n",
       "      <td>5.0</td>\n",
       "      <td>3.6</td>\n",
       "      <td>1.4</td>\n",
       "      <td>0.2</td>\n",
       "      <td>setosa</td>\n",
       "    </tr>\n",
       "    <tr>\n",
       "      <th>...</th>\n",
       "      <td>...</td>\n",
       "      <td>...</td>\n",
       "      <td>...</td>\n",
       "      <td>...</td>\n",
       "      <td>...</td>\n",
       "      <td>...</td>\n",
       "    </tr>\n",
       "    <tr>\n",
       "      <th>145</th>\n",
       "      <td>146</td>\n",
       "      <td>6.7</td>\n",
       "      <td>3.0</td>\n",
       "      <td>5.2</td>\n",
       "      <td>2.3</td>\n",
       "      <td>virginica</td>\n",
       "    </tr>\n",
       "    <tr>\n",
       "      <th>146</th>\n",
       "      <td>147</td>\n",
       "      <td>6.3</td>\n",
       "      <td>2.5</td>\n",
       "      <td>5.0</td>\n",
       "      <td>1.9</td>\n",
       "      <td>virginica</td>\n",
       "    </tr>\n",
       "    <tr>\n",
       "      <th>147</th>\n",
       "      <td>148</td>\n",
       "      <td>6.5</td>\n",
       "      <td>3.0</td>\n",
       "      <td>5.2</td>\n",
       "      <td>2.0</td>\n",
       "      <td>virginica</td>\n",
       "    </tr>\n",
       "    <tr>\n",
       "      <th>148</th>\n",
       "      <td>149</td>\n",
       "      <td>6.2</td>\n",
       "      <td>3.4</td>\n",
       "      <td>5.4</td>\n",
       "      <td>2.3</td>\n",
       "      <td>virginica</td>\n",
       "    </tr>\n",
       "    <tr>\n",
       "      <th>149</th>\n",
       "      <td>150</td>\n",
       "      <td>5.9</td>\n",
       "      <td>3.0</td>\n",
       "      <td>5.1</td>\n",
       "      <td>1.8</td>\n",
       "      <td>virginica</td>\n",
       "    </tr>\n",
       "  </tbody>\n",
       "</table>\n",
       "<p>150 rows × 6 columns</p>\n",
       "</div>"
      ]
     },
     "metadata": {},
     "execution_count": 3
    }
   ],
   "metadata": {
    "scrolled": true
   }
  },
  {
   "cell_type": "code",
   "execution_count": null,
   "source": [],
   "outputs": [],
   "metadata": {}
  },
  {
   "cell_type": "code",
   "execution_count": 5,
   "source": [
    "# 소스 데이터프레임에서 분류(classification)을 위한 속성 집합\r\n",
    "X = rawData.loc[:,'sepal_length':'petal_width']\r\n",
    "y = rawData.loc[:,'class']\r\n",
    "\r\n",
    "# 자동으로 데이터셋을 트레이닝셋과 테스트셋으로 분리해주는 함수로\r\n",
    "# 트레이닝셋과 데이터셋의 비율을 7:3으로 세팅함\r\n",
    "X_train, X_test, y_train, y_test = train_test_split(X,y,test_size=0.3,random_state=0)"
   ],
   "outputs": [],
   "metadata": {}
  },
  {
   "cell_type": "code",
   "execution_count": null,
   "source": [
    "X_train"
   ],
   "outputs": [],
   "metadata": {}
  },
  {
   "cell_type": "markdown",
   "source": [
    "###  의사결정트리 분석을 위해 트레이닝셋과 테스트셋의 비율을 7:3으로 정함\n",
    "#### 트레이닝셋 : 학습시킬 대상 셋\n",
    "#### 테스트셋 : 의사결정트리의 정확도(accuracy)를 검증"
   ],
   "metadata": {}
  },
  {
   "cell_type": "code",
   "execution_count": 8,
   "source": [
    "# DecisionTreeClassifier() : 의사결정트리를 생성하는 함수\r\n",
    "# fit() : 트레이닝 데이터셋을 대상으로 의사결정트리 학습 진행\r\n",
    "iris_tree = tree.DecisionTreeClassifier(criterion='entropy', max_depth=3,random_state=0)\r\n",
    "iris_tree.fit(X_train,y_train)"
   ],
   "outputs": [
    {
     "output_type": "execute_result",
     "data": {
      "text/plain": [
       "DecisionTreeClassifier(criterion='entropy', max_depth=3, random_state=0)"
      ]
     },
     "metadata": {},
     "execution_count": 8
    }
   ],
   "metadata": {}
  },
  {
   "cell_type": "code",
   "execution_count": 9,
   "source": [
    "from sklearn.metrics import accuracy_score  # 분류 정확도(classification accuracy)를 계산하는 모듈\r\n",
    "\r\n",
    "# tree.predict() 함수를 활용하여 의사결정트리를 대상으로 테스트셋을 예측\r\n",
    "y_pred = iris_tree.predict(X_test)\r\n",
    "# accuracy_score() 함수를 활용하여 테스트셋의 실제 클래스와 예측된 클래스 간 정확도 측정\r\n",
    "print('Accuracy: %.2f' % accuracy_score(y_test,y_pred))"
   ],
   "outputs": [
    {
     "output_type": "stream",
     "name": "stdout",
     "text": [
      "Accuracy: 0.98\n"
     ]
    }
   ],
   "metadata": {}
  },
  {
   "cell_type": "markdown",
   "source": [
    "### DecisionTreeClassifier(), fit() 함수 : 의사결정트리 생성 및 학습 진행\n",
    "### tree_predict(), accuracy_score() 함수 : 의사결정트리의 정확도 검증"
   ],
   "metadata": {}
  },
  {
   "cell_type": "code",
   "execution_count": 11,
   "source": [
    "# 의사결정트리 시각화를 위한 작업\r\n",
    "# 트리 시각화를 위한 export_graphviz 모듈 임포트 (이를 위해 graphviz 별도 설치 필요)\r\n",
    "from sklearn.tree import export_graphviz"
   ],
   "outputs": [],
   "metadata": {
    "collapsed": true
   }
  },
  {
   "cell_type": "code",
   "execution_count": null,
   "source": [
    "import pydotplus  # graphviz의 dot language 와의 인터페이스를 제공하는 패키지 임포트\r\n",
    "from IPython.display import Image  # IPython의 display와 관련된 Public API\r\n",
    "\r\n",
    "x_list = list(X.columns)\r\n",
    "y_list = list(y.drop_duplicates(inplace=False))\r\n",
    "\r\n",
    "# export_graphviz() : 의사결정트리에 대한 graphviz dot data를 생성하는 함수\r\n",
    "dot_data = export_graphviz(iris_tree, out_file=None, feature_names = x_list, class_names = y_list, filled=True, rounded=True, special_characters=True)\r\n",
    "\r\n",
    "# graphviz의 dot data로부터 트리 그래프 생성\r\n",
    "graph = pydotplus.graph_from_dot_data(dot_data)\r\n",
    "# 트리 그래프를 위한 png 이미지 생성 및 출력 (jupyter notebook 환경에서 구동함)\r\n",
    "Image(graph.create_png())"
   ],
   "outputs": [],
   "metadata": {}
  },
  {
   "cell_type": "markdown",
   "source": [
    "### 의사결정트리 시각화를 위해서 sklearn.tree의 export_graphviz 모듈을 이용\n",
    "#### export_graphviz() : 의사결정트리에 대한 graphviz(DOT 스크립트 언어로 명세되는 그래프 시각화 오픈 소스) dot data를 생성하는 함수\n",
    "#### pydotplus.graph_from_dot_data() : dot data를 이용하여 그래프를 생성하는 함수\n",
    "#### Image(), create_png() 함수 : 그래프에 대한 png 이미지를 생성하여 출력하는 함수 "
   ],
   "metadata": {}
  },
  {
   "cell_type": "markdown",
   "source": [
    "### 정확도(accuracy) : 0.98의 의미는 테스트셋을 대상으로 의사결정트리를 통해 분류된 품종과 실제 품종 비교 결과, 98%가 일치한다는 의미\n",
    "### 위 의사결정트리 해석 예시\n",
    "#### 꽃잎너비(petal_width)가 0.75이하이면 setosa 품종으로 판단되고, 그렇지 않으면 꽃잎길이(petal_length)를 기준으로 4.95이하이고 꽃잎너비가 1.65이하이면 versicolor 품중이, 꽃잎길이가 4.95보다 길면 virginia 품종으로 판단됨\n",
    "### 결과적으로, 4개의 속성 중 꽃잎너비와 꽃잎길이만 위 트리 상에 나타나 품종에 영향을 미치는 속성이라고 판단됨\n",
    "### 그러므로, 품종에 영향을 미치는 속성의 부분집합은 {꽃잎길이, 꽃잎너비} 이상 2개의 속성으로 볼 수 있음"
   ],
   "metadata": {}
  }
 ],
 "metadata": {
  "kernelspec": {
   "display_name": "Python 3",
   "language": "python",
   "name": "python3"
  },
  "language_info": {
   "codemirror_mode": {
    "name": "ipython",
    "version": 3
   },
   "file_extension": ".py",
   "mimetype": "text/x-python",
   "name": "python",
   "nbconvert_exporter": "python",
   "pygments_lexer": "ipython3",
   "version": "3.8.5"
  }
 },
 "nbformat": 4,
 "nbformat_minor": 2
}