{
 "cells": [
  {
   "cell_type": "code",
   "execution_count": 1,
   "source": [
    "import pandas as pd\r\n",
    "import warnings\r\n",
    "\r\n",
    "warnings.filterwarnings(action='ignore')\r\n",
    "\r\n",
    "# dataset : Kaggle의 Credit Card Fraud Detection의 creditcard.csv \r\n",
    "df = pd.read_csv('datasets/creditcard.csv')\r\n",
    "\r\n",
    "# Class 별 데이터분포\r\n",
    "df.Class.value_counts(normalize=True).plot(kind='bar')\r\n",
    "print(df.Class.value_counts(normalize=True)*100)"
   ],
   "outputs": [
    {
     "output_type": "stream",
     "name": "stdout",
     "text": [
      "0    99.827251\n",
      "1     0.172749\n",
      "Name: Class, dtype: float64\n"
     ]
    },
    {
     "output_type": "display_data",
     "data": {
      "text/plain": [
       "<Figure size 432x288 with 1 Axes>"
      ],
      "image/png": "[encoded data removed]"
     },
     "metadata": {
      "needs_background": "light"
     }
    }
   ],
   "metadata": {
    "collapsed": true
   }
  },
  {
   "cell_type": "code",
   "execution_count": 3,
   "source": [
    "from sklearn.model_selection import train_test_split\r\n",
    "from sklearn.metrics import accuracy_score, precision_score, recall_score, f1_score\r\n",
    "\r\n",
    "# Original dataset으로 독립변수(X)와 종속변수(y) 지정\r\n",
    "X = df.iloc[:,:-1]\r\n",
    "y = df.iloc[:,-1]\r\n",
    "\r\n",
    "# Original dataset에 대한 training set과 test set 구분 (3:1)\r\n",
    "X_train, X_test, y_train, y_test = train_test_split(X,y,test_size=0.25,random_state=10)"
   ],
   "outputs": [],
   "metadata": {}
  },
  {
   "cell_type": "code",
   "execution_count": 5,
   "source": [
    "# imblearn(imbalanced data 문제해결을 위한 패키지) import\r\n",
    "from imblearn.over_sampling import SMOTE\r\n",
    "\r\n",
    "# SMOTE 모델 설정\r\n",
    "smote = SMOTE(random_state=0)\r\n",
    "\r\n",
    "# SMOTE 기법에 의한 Oversampling 진행\r\n",
    "X_over,y_over = smote.fit_resample(X,y)\r\n",
    "\r\n",
    "print('SMOTE 적용 전 학습용 피처/레이블 데이터 세트: ', X.shape, y.shape)\r\n",
    "print('SMOTE 적용 후 학습용 피처/레이블 데이터 세트: ', X_over.shape, y_over.shape)\r\n",
    "print('SMOTE 적용 후 레이블 값 분포: \\n', pd.Series(y_over).value_counts())\r\n",
    "\r\n",
    "# Oversampling dataset에 대한 training set과 test set 구분 (3:1)\r\n",
    "X_train_over, X_test_over, y_train_over, y_test_over = train_test_split(X_over, y_over, test_size=0.25, random_state=10)"
   ],
   "outputs": [
    {
     "output_type": "stream",
     "name": "stdout",
     "text": [
      "SMOTE 적용 전 학습용 피처/레이블 데이터 세트:  (284807, 30) (284807,)\n",
      "SMOTE 적용 후 학습용 피처/레이블 데이터 세트:  (568630, 30) (568630,)\n",
      "SMOTE 적용 후 레이블 값 분포: \n",
      " 0    284315\n",
      "1    284315\n",
      "Name: Class, dtype: int64\n"
     ]
    }
   ],
   "metadata": {
    "collapsed": true
   }
  },
  {
   "cell_type": "code",
   "execution_count": 16,
   "source": [
    "# 모델링 및 학습/검증\r\n",
    "def f_model_fit(cls, model,X_train,X_test,y_train,y_test):\r\n",
    "    model.fit(X_train,y_train)\r\n",
    "    pred = model.predict(X_test)\r\n",
    "    f_metrics(cls, y_test,pred)\r\n",
    "    \r\n",
    "# 분류 성능평가 지표\r\n",
    "def f_metrics(cls, y_test,pred):\r\n",
    "    accuracy = accuracy_score(y_test,pred)\r\n",
    "    precision = precision_score(y_test,pred)\r\n",
    "    recall = recall_score(y_test,pred)\r\n",
    "    f1 = f1_score(y_test,pred)\r\n",
    "    print(cls + '정확도 : {0:.5f}, 정밀도 : {1:.5f}, 재현율 : {2:.5f}, f1-score : {3:.5f}'.format(accuracy, precision, recall, f1))"
   ],
   "outputs": [],
   "metadata": {}
  },
  {
   "cell_type": "code",
   "execution_count": 7,
   "source": [
    "# 분석기법 : Logistic Regression\r\n",
    "from sklearn.linear_model import LogisticRegression\r\n",
    "\r\n",
    "lr = LogisticRegression()\r\n",
    "f_model_fit('Logistic Regression(SMOTE적용 전) -> ', lr, X_train, X_test, y_train, y_test)\r\n",
    "f_model_fit('Logistic Regression(SMOTE적용 후) -> ', lr, X_train_over, X_test_over, y_train_over, y_test_over)"
   ],
   "outputs": [
    {
     "output_type": "stream",
     "name": "stdout",
     "text": [
      "Logistic Regression(SMOTE적용 전) -> 정확도 : 0.999, 정밀도 : 0.725, 재현율 : 0.653, f1-score : 0.687\n",
      "Logistic Regression(SMOTE적용 후) -> 정확도 : 0.974, 정밀도 : 0.983, 재현율 : 0.964, f1-score : 0.973\n"
     ]
    }
   ],
   "metadata": {
    "collapsed": true
   }
  },
  {
   "cell_type": "code",
   "execution_count": 8,
   "source": [
    "# 분석기법 : Decision_tree Classification\r\n",
    "from sklearn.tree import DecisionTreeClassifier  # 의사결정트리 기법에 관련된 모듈\r\n",
    "\r\n",
    "decision_tree = DecisionTreeClassifier(criterion='entropy', max_depth=4, random_state=0)\r\n",
    "f_model_fit('Decision_tree(SMOTE적용 전) -> ', decision_tree, X_train, X_test, y_train, y_test)\r\n",
    "f_model_fit('Decision_tree(SMOTE적용 후) -> ', decision_tree, X_train_over, X_test_over, y_train_over, y_test_over)"
   ],
   "outputs": [
    {
     "output_type": "stream",
     "name": "stdout",
     "text": [
      "Decision_tree(SMOTE적용 전) -> 정확도 : 0.999, 정밀도 : 0.896, 재현율 : 0.785, f1-score : 0.837\n",
      "Decision_tree(SMOTE적용 후) -> 정확도 : 0.964, 정밀도 : 0.982, 재현율 : 0.946, f1-score : 0.963\n"
     ]
    }
   ],
   "metadata": {
    "collapsed": true
   }
  },
  {
   "cell_type": "code",
   "execution_count": 14,
   "source": [
    "# 분석기법 : Random_forest Classification\r\n",
    "from sklearn.ensemble import RandomForestClassifier  # 랜덤포리스트 기법에 관련된 모듈\r\n",
    "\r\n",
    "random_forest = RandomForestClassifier(n_estimators=20, random_state=0)\r\n",
    "f_model_fit('Random_forest(SMOTE적용 전) -> ', random_forest, X_train, X_test, y_train, y_test)\r\n",
    "f_model_fit('Random_forest(SMOTE적용 후) -> ', random_forest, X_train_over, X_test_over, y_train_over, y_test_over)"
   ],
   "outputs": [
    {
     "output_type": "stream",
     "name": "stdout",
     "text": [
      "Random_forest(SMOTE적용 전) -> 정확도 : 0.9996067526, 정밀도 : 0.960, 재현율 : 0.802, f1-score : 0.874\n",
      "Random_forest(SMOTE적용 후) -> 정확도 : 0.9998874492, 정밀도 : 1.000, 재현율 : 1.000, f1-score : 1.000\n"
     ]
    }
   ],
   "metadata": {
    "collapsed": true
   }
  },
  {
   "cell_type": "code",
   "execution_count": 10,
   "source": [
    "# 분석기법 : Xgboost Classification\r\n",
    "import xgboost as xgb # xgboost 기법에 관련된 모듈\r\n",
    "\r\n",
    "gbm = xgb.XGBClassifier(max_depth=4, n_estimators=300, learning_rate=0.05, eval_metric='logloss')\r\n",
    "f_model_fit('XGBoost(SMOTE적용 전) -> ', gbm, X_train, X_test, y_train, y_test)\r\n",
    "f_model_fit('XGBoost(SMOTE적용 후) -> ', gbm, X_train_over, X_test_over, y_train_over, y_test_over)"
   ],
   "outputs": [
    {
     "output_type": "stream",
     "name": "stdout",
     "text": [
      "XGBoost(SMOTE적용 전) -> 정확도 : 1.000, 정밀도 : 0.962, 재현율 : 0.835, f1-score : 0.894\n",
      "XGBoost(SMOTE적용 후) -> 정확도 : 0.997, 정밀도 : 0.997, 재현율 : 0.997, f1-score : 0.997\n"
     ]
    }
   ],
   "metadata": {
    "collapsed": true
   }
  },
  {
   "cell_type": "code",
   "execution_count": 17,
   "source": [
    "# 분석기법 : LightGBM Classification\r\n",
    "from lightgbm import LGBMClassifier\r\n",
    "lgb = LGBMClassifier(n_estimators=1000,num_leaves=64,n_jobs=-1,boost_from_average=False)\r\n",
    "f_model_fit('Lightgbm(SMOTE적용 전) -> ', lgb, X_train, X_test, y_train, y_test)\r\n",
    "f_model_fit('Lightgbm(SMOTE적용 후) -> ', lgb, X_train_over, X_test_over, y_train_over, y_test_over)"
   ],
   "outputs": [
    {
     "output_type": "stream",
     "name": "stdout",
     "text": [
      "Lightgbm(SMOTE적용 전) -> 정확도 : 0.99963, 정밀도 : 0.95238, 재현율 : 0.82645, f1-score : 0.88496\n",
      "Lightgbm(SMOTE적용 후) -> 정확도 : 0.99989, 정밀도 : 0.99977, 재현율 : 1.00000, f1-score : 0.99989\n"
     ]
    }
   ],
   "metadata": {
    "collapsed": true
   }
  },
  {
   "cell_type": "code",
   "execution_count": null,
   "source": [],
   "outputs": [],
   "metadata": {}
  }
 ],
 "metadata": {
  "kernelspec": {
   "name": "python3",
   "display_name": "Python 3.8.10 64-bit ('base': conda)"
  },
  "language_info": {
   "codemirror_mode": {
    "name": "ipython",
    "version": 3
   },
   "file_extension": ".py",
   "mimetype": "text/x-python",
   "name": "python",
   "nbconvert_exporter": "python",
   "pygments_lexer": "ipython3",
   "version": "3.8.10"
  },
  "interpreter": {
   "hash": "a7401fdbc441e771371315dfd74d70672a7e5696f5857508b031491b5c8705db"
  }
 },
 "nbformat": 4,
 "nbformat_minor": 4
}